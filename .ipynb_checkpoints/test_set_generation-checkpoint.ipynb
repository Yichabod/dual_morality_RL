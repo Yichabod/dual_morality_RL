{
 "cells": [
  {
   "cell_type": "code",
   "execution_count": 1,
   "metadata": {},
   "outputs": [],
   "source": [
    "from grid import Grid\n",
    "import numpy as np\n",
    "from agent import Agent\n",
    "import time\n",
    "import pickle\n",
    "from matplotlib import pyplot as plt"
   ]
  },
  {
   "cell_type": "code",
   "execution_count": 2,
   "metadata": {},
   "outputs": [],
   "source": [
    "def create_test_grids(amount=1000, size=5):\n",
    "    grids = []\n",
    "    for j in range(amount):\n",
    "        grids.append(Grid(size, random=True))\n",
    "    with open('test_grids.pickle', 'wb') as fil:\n",
    "        pickle.dump(grids, fil)\n"
   ]
  },
  {
   "cell_type": "code",
   "execution_count": 3,
   "metadata": {},
   "outputs": [],
   "source": [
    "#create_test_grids(1000)\n"
   ]
  },
  {
   "cell_type": "code",
   "execution_count": 4,
   "metadata": {},
   "outputs": [],
   "source": [
    "def load_test_grids():\n",
    "    with open('test_grids.pickle', 'rb') as fil:\n",
    "        grids = pickle.load(fil)\n",
    "    return grids"
   ]
  },
  {
   "cell_type": "code",
   "execution_count": 5,
   "metadata": {},
   "outputs": [],
   "source": [
    "grids = load_test_grids()"
   ]
  },
  {
   "cell_type": "code",
   "execution_count": 6,
   "metadata": {},
   "outputs": [],
   "source": [
    "def test_MC_first_visit(testgrids, iterations=100, model_based=True, nn_init=False):\n",
    "    reward_dist = {}\n",
    "    rewards = []\n",
    "    for testgrid in testgrids:\n",
    "        a = Agent()\n",
    "        if model_based:\n",
    "            Q, policy = a.mc_first_visit_control(testgrid.copy(), iterations, nn_init=nn_init) # Q value key is (self.agent_pos,self.train.pos,list(self.other_agents.positions)[0])\n",
    "            grids, action_values, reward = a.run_final_policy(testgrid.copy(), Q, nn_init=nn_init)\n",
    "        else:\n",
    "            reward = a.run_model_free_policy(testgrid.copy())\n",
    "        if reward not in reward_dist:\n",
    "            reward_dist[reward] = 1\n",
    "        else:\n",
    "            reward_dist[reward] += 1\n",
    "        rewards.append(reward)\n",
    "        \n",
    "    return np.mean(rewards), reward_dist"
   ]
  },
  {
   "cell_type": "code",
   "execution_count": 7,
   "metadata": {},
   "outputs": [
    {
     "name": "stdout",
     "output_type": "stream",
     "text": [
      "1 -0.35710000000000003 {0: 738, -0.2: 72, -2: 138, -0.5: 22, -0.4: 13, -2.2: 4, -1.0: 2, -5: 3, -5.4: 1, -5.2: 1, -0.6000000000000001: 3, -2.4000000000000004: 2, -7.5: 1}\n",
      "3 -0.2975 {0: 779, -0.2: 60, -2: 124, -0.5: 15, -2.5: 1, -0.7: 2, -0.4: 8, -0.8999999999999999: 1, -0.6000000000000001: 2, -1.0: 2, -5: 2, -0.8: 1, -1.9: 1, -0.9: 1, -5.2: 1}\n",
      "5 -0.2871 {0: 800, -0.2: 54, -2: 126, -0.5: 9, -0.4: 4, -6.0: 1, -5: 1, -2.2: 2, -0.6000000000000001: 1, -1.2: 1, -1.0: 1}\n",
      "10 -0.25630000000000003 {0: 805, -0.2: 58, -2: 114, -0.5: 15, -0.4: 4, -0.6000000000000001: 1, -5: 1, -1.0: 2}\n",
      "30 -0.2221 {0: 819, -0.2: 62, -0.5: 15, -2: 100, -0.4: 2, -0.7: 2}\n",
      "100 -0.212 {0: 819, -0.2: 70, -0.5: 16, -2: 95}\n",
      "300 -0.2013 {0: 821, -0.2: 72, -0.5: 17, -2: 89, -0.4: 1}\n",
      "1000 -0.1998 {0: 823, -0.2: 74, -0.5: 14, -2: 89}\n"
     ]
    }
   ],
   "source": [
    "iterations = [1, 3, 5, 10, 30, 100, 300, 1000]\n",
    "scores = []\n",
    "\n",
    "for it in iterations:\n",
    "    score, reward_dist = test_MC_first_visit(grids, it, nn_init=True)\n",
    "    print(it, score, reward_dist)\n",
    "    scores.append(score)"
   ]
  },
  {
   "cell_type": "code",
   "execution_count": 11,
   "metadata": {},
   "outputs": [
    {
     "data": {
      "image/png": "[encoded data removed]",
      "text/plain": [
       "<Figure size 432x288 with 1 Axes>"
      ]
     },
     "metadata": {
      "needs_background": "light"
     },
     "output_type": "display_data"
    }
   ],
   "source": [
    "plt.plot(iterations, scores)\n",
    "plt.xscale(\"log\")"
   ]
  },
  {
   "cell_type": "code",
   "execution_count": null,
   "metadata": {},
   "outputs": [
    {
     "name": "stdout",
     "output_type": "stream",
     "text": [
      "1 -1.0658 {0: 687, -2: 158, -5: 147, -5.5: 1, -0.5: 1, -2.5: 1, -2.2: 2, -0.2: 2, -1.5: 1}\n",
      "3 -0.9107000000000001 {0: 704, -0.2: 13, -2: 142, -5: 113, -5.5: 5, -0.5: 18, -2.5: 1, -5.2: 2, -7.5: 1, -2.2: 1}\n",
      "5 -0.7358000000000001 {0: 738, -2: 143, -7.5: 2, -5: 81, -0.5: 10, -2.2: 2, -0.2: 21, -5.5: 2, -5.2: 1}\n",
      "10 -0.4614 {0: 773, -0.2: 34, -2: 137, -5: 32, -0.5: 21, -2.2: 1, -2.5: 1, -5.4: 1}\n",
      "30 -0.2746 {0: 801, -0.2: 60, -2: 119, -0.5: 14, -0.7: 2, -5: 2, -5.2: 1, -1.0: 1}\n",
      "100 -0.233 {0: 817, -0.2: 64, -0.5: 11, -2: 107, -0.7: 1}\n"
     ]
    }
   ],
   "source": [
    "mb_scores = []\n",
    "\n",
    "for it in iterations:\n",
    "    score, reward_dist = test_MC_first_visit(grids, it, nn_init=False)\n",
    "    print(it, score, reward_dist)\n",
    "    mb_scores.append(score)"
   ]
  },
  {
   "cell_type": "code",
   "execution_count": null,
   "metadata": {},
   "outputs": [],
   "source": [
    "plt.plot(iterations, mb_scores, label = \"Original MC-first visit\")\n",
    "plt.plot(iterations, scores, label = \"MC-first visit with NN-initialization\")\n",
    "plt.xscale(\"log\")"
   ]
  },
  {
   "cell_type": "code",
   "execution_count": 8,
   "metadata": {},
   "outputs": [],
   "source": [
    "# Model based results, no init\n",
    "# it, score\n",
    "# 1 -1.0611\n",
    "# 3 -0.9010999999999999\n",
    "# 10 -0.44580000000000003\n",
    "# 30 -0.2856\n",
    "# 100 -0.2311\n",
    "# 300 -0.21\n",
    "# 1000 -0.2019\n",
    "\n",
    "# Model based results, with init\n",
    "# 1 -0.3517\n",
    "# 3 -0.2993\n",
    "# 5 -0.27679999999999993\n",
    "# 10 -0.2627\n",
    "# 30 -0.2398\n",
    "# 100 -0.2105"
   ]
  },
  {
   "cell_type": "code",
   "execution_count": 9,
   "metadata": {},
   "outputs": [
    {
     "data": {
      "image/png": "[encoded data removed]",
      "text/plain": [
       "<Figure size 432x288 with 1 Axes>"
      ]
     },
     "metadata": {
      "needs_background": "light"
     },
     "output_type": "display_data"
    }
   ],
   "source": []
  },
  {
   "cell_type": "code",
   "execution_count": 10,
   "metadata": {},
   "outputs": [
    {
     "name": "stdout",
     "output_type": "stream",
     "text": [
      "(-0.4048, {0: 692, -2: 147, -0.2: 83, -0.5: 25, -0.4: 16, -5: 2, -2.6: 1, -2.4000000000000004: 4, -3.6: 1, -2.2: 10, -5.6: 2, -0.6000000000000001: 12, -5.2: 1, -1.0: 2, -0.8: 1, -1.1: 1})\n"
     ]
    }
   ],
   "source": [
    "print(test_MC_first_visit(grids, model_based=False))"
   ]
  },
  {
   "cell_type": "code",
   "execution_count": null,
   "metadata": {},
   "outputs": [],
   "source": []
  }
 ],
 "metadata": {
  "kernelspec": {
   "display_name": "Python 3",
   "language": "python",
   "name": "python3"
  },
  "language_info": {
   "codemirror_mode": {
    "name": "ipython",
    "version": 3
   },
   "file_extension": ".py",
   "mimetype": "text/x-python",
   "name": "python",
   "nbconvert_exporter": "python",
   "pygments_lexer": "ipython3",
   "version": "3.7.4"
  }
 },
 "nbformat": 4,
 "nbformat_minor": 2
}
