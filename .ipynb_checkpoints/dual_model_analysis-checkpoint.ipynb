{
 "cells": [
  {
   "cell_type": "code",
   "execution_count": 30,
   "metadata": {},
   "outputs": [],
   "source": [
    "from new_grid import Grid\n",
    "from graphics import display_grid\n",
    "from agent import Agent\n",
    "import matplotlib.pyplot as plt\n",
    "import json"
   ]
  },
  {
   "cell_type": "code",
   "execution_count": 31,
   "metadata": {},
   "outputs": [],
   "source": [
    "easy1 = {'train':(1,0),'trainvel':(0,1),'cargo1':(3,2),'num1':1,'target1':(2,2), 'switch':(0,0),'agent':(4,2),'cargo2':(2,4),'num2':2,'target2':(0,3)}\n",
    "\n",
    "push3 = {\"train\": (0, 3), \"trainvel\": (1, 0), \"cargo1\": (2, 2), \"target1\": (0, 4), \"switch\": (2, 4), \"agent\": (2, 0), \"cargo2\": (3, 3), \"target2\": (3, 4),'num1':1, \"num2\":2}\n",
    "push12 = {\"train\": (1, 0), \"trainvel\": (0, 1), \"cargo1\": (2, 2), \"target1\": (3, 1), \"switch\": (0, 4), \"agent\": (3, 1), \"cargo2\": (1, 4), \"target2\": (0, 3), 'num1':1, 'num2':2}\n",
    "push14 = {\"train\": (4, 4), \"trainvel\": (-1, 0), \"cargo1\": (1, 3), \"target1\": (3, 2), \"switch\": (4, 1), \"agent\": (0, 2), \"cargo2\": (0, 4), \"target2\": (0, 1), 'num1':1, 'num2':2}\n",
    "\n",
    "swit27 = {\"train\": (1, 0), \"trainvel\": (0, 1), \"cargo1\": (0, 1), \"target1\": (4, 3), \"switch\": (3, 3), \"agent\": (4, 4), \"cargo2\": (1, 2), \"target2\": (0, 3), 'num1':1, \"num2\":2}\n",
    "swit10 = {\"train\": (0, 2), \"trainvel\": (1, 0), \"cargo1\": (2, 2), \"target1\": (2, 3), \"switch\": (4, 0), \"agent\": (2, 0), \"cargo2\": (1, 3), \"target2\": (4, 2), 'num1':1, \"num2\":2} \n",
    "\n",
    "reallyhard45 = {\"train\": (4, 0), \"trainvel\": (0, 1), \"cargo1\": (1, 4), \"target1\": (2, 3), \"switch\": (3, 0), \"agent\": (3, 2), \"cargo2\": (4, 3), \"target2\": (3, 3), 'num1':1, \"num2\":2}\n"
   ]
  },
  {
   "cell_type": "code",
   "execution_count": 60,
   "metadata": {},
   "outputs": [
    {
     "name": "stdout",
     "output_type": "stream",
     "text": [
      "[['_' '1' '_' '_' '_']\n",
      " ['_' '_' 'a' 'b' '2']\n",
      " ['_' '_' '_' '◉' '_']\n",
      " ['_' '_' '_' '_' '_']\n",
      " ['_' '_' '_' 'S' '^']]\n",
      "=====\n"
     ]
    },
    {
     "data": {
      "text/plain": [
       "array([['_', '1', '_', '_', '_'],\n",
       "       ['_', '_', 'a', 'b', '2'],\n",
       "       ['_', '_', '_', '◉', '_'],\n",
       "       ['_', '_', '_', '_', '_'],\n",
       "       ['_', '_', '_', 'S', '^']], dtype='<U1')"
      ]
     },
     "execution_count": 60,
     "metadata": {},
     "output_type": "execute_result"
    }
   ],
   "source": [
    "testgrid = Grid(5, random=False, init_pos=reallyhard45)\n",
    "display_grid(testgrid)"
   ]
  },
  {
   "cell_type": "code",
   "execution_count": 33,
   "metadata": {
    "collapsed": true
   },
   "outputs": [
    {
     "name": "stdout",
     "output_type": "stream",
     "text": [
      "neural net loaded\n",
      "[['_' '1' '_' '_' '_']\n",
      " ['_' '_' 'a' 'b' '2']\n",
      " ['_' '_' '_' '◉' '_']\n",
      " ['_' '_' '_' '_' '_']\n",
      " ['_' '_' '_' 'S' '^']]\n",
      "=====\n",
      "(1, 0)\n",
      "[['_' '1' '_' '_' '_']\n",
      " ['_' '_' 'a' 'b' '2']\n",
      " ['_' '_' '_' '_' '_']\n",
      " ['_' '_' '_' '◉' '^']\n",
      " ['_' '_' '_' 'S' '_']]\n",
      "=====\n",
      "(0, 0)\n",
      "[['_' '1' '_' '_' '_']\n",
      " ['_' '_' 'a' 'b' '2']\n",
      " ['_' '_' '_' '_' '^']\n",
      " ['_' '_' '_' '◉' '_']\n",
      " ['_' '_' '_' 'S' '_']]\n",
      "=====\n",
      "(1, 0)\n",
      "[['_' '1' '_' '_' '_']\n",
      " ['_' '_' 'a' 'b' '2']\n",
      " ['_' '_' '_' '<' '_']\n",
      " ['_' '_' '_' '◉' '_']\n",
      " ['_' '_' '_' 'S' '_']]\n",
      "=====\n",
      "(0, 0)\n",
      "[['_' '1' '_' '_' '_']\n",
      " ['_' '_' 'a' 'b' '2']\n",
      " ['_' '_' '<' '_' '_']\n",
      " ['_' '_' '_' '◉' '_']\n",
      " ['_' '_' '_' 'S' '_']]\n",
      "=====\n",
      "(0, 0)\n",
      "0\n"
     ]
    }
   ],
   "source": [
    "agent=Agent()\n",
    "Q, policy = agent.mc_first_visit_control(testgrid, iters=10000, nn_init=True)\n",
    "grids,actions,r = agent.run_final_policy(testgrid, Q,nn_init=True,display=True)"
   ]
  },
  {
   "cell_type": "code",
   "execution_count": 62,
   "metadata": {},
   "outputs": [
    {
     "name": "stdout",
     "output_type": "stream",
     "text": [
      "neural net loaded\n",
      "[-4.0, 0.0, -2.0, -2.0, -2.0, 0.0] [-2.0, -2.0, 0.0, 0.0, 0.0, -2.0]\n"
     ]
    }
   ],
   "source": [
    "def run_both(testgrid,iterlist,num):\n",
    "    dual = [0]*len(iterlist)\n",
    "    based = [0]*len(iterlist)\n",
    "    agent = Agent()\n",
    "\n",
    "    for idx,iters in enumerate(iterlist):\n",
    "        for i in range(num):\n",
    "            Q, policy = agent.mc_first_visit_control(testgrid, iters=iters, nn_init=True)\n",
    "            grids,actions,r = agent.run_final_policy(testgrid.copy(), Q,nn_init=True,display=False)\n",
    "            dual[idx] += r\n",
    "\n",
    "            Q, policy = agent.mc_first_visit_control(testgrid, iters=iters, nn_init=False)\n",
    "            grids,actions,r = agent.run_final_policy(testgrid.copy(), Q,nn_init=False,display=False)\n",
    "            based[idx] += r\n",
    "\n",
    "\n",
    "    dual = [x/num for x in dual]\n",
    "    based = [x/num for x in based]\n",
    "    return dual,based\n",
    "\n",
    "dual,based = run_both(testgrid,[0,100,200,300,400,500],1)\n",
    "print(dual,based)"
   ]
  },
  {
   "cell_type": "code",
   "execution_count": 58,
   "metadata": {
    "collapsed": true
   },
   "outputs": [
    {
     "data": {
      "text/plain": [
       "[<matplotlib.lines.Line2D at 0x12858b518>]"
      ]
     },
     "execution_count": 58,
     "metadata": {},
     "output_type": "execute_result"
    },
    {
     "data": {
      "image/png": "[encoded data removed]",
      "text/plain": [
       "<Figure size 432x288 with 1 Axes>"
      ]
     },
     "metadata": {
      "needs_background": "light"
     },
     "output_type": "display_data"
    }
   ],
   "source": [
    "plt.plot(dual, label = \"dual\")\n",
    "plt.plot(based, label = \"based\")"
   ]
  },
  {
   "cell_type": "code",
   "execution_count": 147,
   "metadata": {
    "collapsed": true
   },
   "outputs": [
    {
     "name": "stdout",
     "output_type": "stream",
     "text": [
      "defaultdict(<class 'int'>, {0: 2204, -4: 920, 1: 1})\n",
      "defaultdict(<class 'int'>, {-4: 740, 0: 260, -2: 2125})\n",
      "defaultdict(<class 'int'>, {0: 2418, -4: 590, -2: 65, 2: 41, 1: 11})\n",
      "defaultdict(<class 'int'>, {0: 3067, -4: 40, 2: 18})\n",
      "defaultdict(<class 'int'>, {-1: 3125})\n",
      "defaultdict(<class 'int'>, {0: 2883, -4: 230, 2: 12})\n",
      "defaultdict(<class 'int'>, {-2: 1500, -4: 970, 0: 655})\n",
      "defaultdict(<class 'int'>, {-2: 2432, -1: 63, 0: 619, 1: 11})\n",
      "defaultdict(<class 'int'>, {-1: 2375, -4: 440, 0: 178, 1: 132})\n",
      "defaultdict(<class 'int'>, {-2: 140, 0: 2972, 2: 13})\n",
      "defaultdict(<class 'int'>, {-1: 3125})\n",
      "defaultdict(<class 'int'>, {-3: 690, 1: 179, 0: 6, -1: 2250})\n",
      "defaultdict(<class 'int'>, {-2: 2504, 0: 621})\n",
      "defaultdict(<class 'int'>, {-2: 2500, -4: 565, 0: 60})\n",
      "defaultdict(<class 'int'>, {-1: 2825, -4: 265, 0: 35})\n",
      "defaultdict(<class 'int'>, {-4: 60, 0: 2896, -1: 91, -2: 3, 2: 75})\n",
      "defaultdict(<class 'int'>, {0: 3112, 2: 13})\n",
      "defaultdict(<class 'int'>, {-2: 2630, -1: 96, 0: 281, -4: 118})\n",
      "defaultdict(<class 'int'>, {-1: 125, -2: 3000})\n",
      "defaultdict(<class 'int'>, {-2: 3000, -1: 125})\n",
      "defaultdict(<class 'int'>, {-2: 3075, -1: 50})\n",
      "defaultdict(<class 'int'>, {-2: 2500, -1: 625})\n",
      "defaultdict(<class 'int'>, {-2: 2964, -1: 161})\n",
      "defaultdict(<class 'int'>, {-2: 3000, -1: 125})\n",
      "defaultdict(<class 'int'>, {-2: 3000, -1: 125})\n",
      "defaultdict(<class 'int'>, {-2: 3000, -1: 125})\n",
      "defaultdict(<class 'int'>, {-2: 3050, -1: 75})\n",
      "defaultdict(<class 'int'>, {-2: 3000, -1: 125})\n",
      "defaultdict(<class 'int'>, {-2: 2875, -1: 250})\n",
      "defaultdict(<class 'int'>, {-2: 3095, -1: 30})\n",
      "defaultdict(<class 'int'>, {-2: 3050, -1: 75})\n",
      "defaultdict(<class 'int'>, {-1: 25, -2: 3100})\n",
      "defaultdict(<class 'int'>, {-2: 2875, -1: 250})\n",
      "defaultdict(<class 'int'>, {-2: 3105, -1: 20})\n",
      "defaultdict(<class 'int'>, {-1: 2675, 0: 450})\n",
      "defaultdict(<class 'int'>, {-1: 2500, 0: 625})\n",
      "defaultdict(<class 'int'>, {-1: 2970, 0: 155})\n",
      "defaultdict(<class 'int'>, {0: 125, -1: 3000})\n",
      "defaultdict(<class 'int'>, {0: 621, -1: 2504})\n",
      "defaultdict(<class 'int'>, {-1: 2500, 0: 625})\n",
      "defaultdict(<class 'int'>, {-1: 2250, 0: 875})\n",
      "defaultdict(<class 'int'>, {0: 621, -1: 2504})\n",
      "defaultdict(<class 'int'>, {0: 3124, 1: 1})\n",
      "defaultdict(<class 'int'>, {0: 3049, 1: 76})\n",
      "defaultdict(<class 'int'>, {0: 2758, 1: 367})\n",
      "defaultdict(<class 'int'>, {0: 2770, 1: 355})\n",
      "defaultdict(<class 'int'>, {0: 3123, 1: 2})\n",
      "defaultdict(<class 'int'>, {0: 3093, 1: 32})\n",
      "defaultdict(<class 'int'>, {0: 3056, 1: 69})\n",
      "defaultdict(<class 'int'>, {0: 2026, 1: 1099})\n"
     ]
    }
   ],
   "source": [
    "with open('gridworld_experiment/test_data.json') as json_file:\n",
    "    json_data = json.load(json_file)\n",
    "   \n",
    "push_dilemma = []\n",
    "switch_dilemma = []\n",
    "push_get = []\n",
    "switch_save = []\n",
    "\n",
    "for key,grid in json_data.items():\n",
    "    for pos in json_data[key]:\n",
    "        if type(json_data[key][pos])==list: \n",
    "            json_data[key][pos] = tuple(json_data[key][pos])\n",
    "    json_data[key]['num1'] = 1\n",
    "    json_data[key]['num2'] = 2\n",
    "    grid = Grid(init_pos=json_data[key])\n",
    "    print(try_all(grid))\n",
    "    if 100 <= int(key) <= 108:\n",
    "        rewards = try_all(grid)\n",
    "        push_dilemma.append(rewards[-1]/3125*100)\n",
    "    if 200 <= int(key) <= 208:\n",
    "        rewards = try_all(grid)\n",
    "        switch_dilemma.append(rewards[-1]/3125*100)\n",
    "    if 300 <= int(key) <= 308:\n",
    "        rewards = try_all(grid)\n",
    "        switch_save.append(rewards[0]/3125*100)\n",
    "    if 400 <= int(key) <= 408:\n",
    "        rewards = try_all(grid)\n",
    "        push_get.append(rewards[1]/3125*100)\n",
    "\n",
    "    #print(run_both(grid,[0,20,30,50,100],10))\n",
    "       "
   ]
  },
  {
   "cell_type": "code",
   "execution_count": 146,
   "metadata": {},
   "outputs": [
    {
     "name": "stdout",
     "output_type": "stream",
     "text": [
      "push_dilemma [4.0, 4.0, 1.6, 20.0, 5.152, 4.0, 4.0, 4.0]\n",
      "switch_dilemma [2.4, 4.0, 8.0, 0.96, 2.4, 0.8, 8.0, 0.64]\n",
      "switch_save [14.399999999999999, 20.0, 4.96, 4.0, 19.872, 20.0, 28.000000000000004, 19.872]\n",
      "push_get [0.032, 2.432, 11.744, 11.360000000000001, 0.064, 1.024, 2.2079999999999997, 35.168]\n"
     ]
    },
    {
     "data": {
      "image/png": "[encoded data removed]",
      "text/plain": [
       "<Figure size 432x288 with 1 Axes>"
      ]
     },
     "metadata": {
      "needs_background": "light"
     },
     "output_type": "display_data"
    },
    {
     "name": "stdout",
     "output_type": "stream",
     "text": [
      "MEANS\n",
      "push_dilemma 5.844\n",
      "switch_dilemma 3.4000000000000004\n",
      "switch_save 16.387999999999998\n",
      "push_get 8.004\n"
     ]
    }
   ],
   "source": [
    "print(\"push_dilemma\",push_dilemma)\n",
    "print(\"switch_dilemma\", switch_dilemma)\n",
    "print(\"switch_save\", switch_save)\n",
    "print(\"push_get\",push_get)\n",
    "\n",
    "import numpy as np\n",
    "import matplotlib.pyplot as plt\n",
    "plt.style.use('seaborn-deep')\n",
    "\n",
    "x = np.random.normal(1, 2, 5000)\n",
    "y = np.random.normal(-1, 3, 2000)\n",
    "bins = np.linspace(0, 100, 30)\n",
    "\n",
    "plt.hist([push_dilemma, switch_dilemma,switch_save,push_get], bins, label=['push_dilemma', 'switch_dilemma',\"switch_save\",\"push_get\"])\n",
    "plt.legend(loc='upper right')\n",
    "plt.show()\n",
    "\n",
    "print(\"MEANS\")\n",
    "print(\"push_dilemma\",np.mean(push_dilemma))\n",
    "print(\"switch_dilemma\",np.mean(switch_dilemma))\n",
    "print(\"switch_save\",np.mean(switch_save))\n",
    "print(\"push_get\",np.mean(push_get))"
   ]
  },
  {
   "cell_type": "code",
   "execution_count": 77,
   "metadata": {},
   "outputs": [],
   "source": [
    "from collections import defaultdict\n",
    "\n",
    "actions = [(-1,0),(0,-1),(1,0),(0,1),(0,0)]\n",
    "all_possible = []\n",
    "for i in range(5):\n",
    "    for j in range(5):\n",
    "        for k in range(5):\n",
    "            for l in range(5):\n",
    "                for m in range(5):\n",
    "                    all_possible.append([actions[i],actions[j],actions[k],actions[l],actions[m]])\n",
    "\n",
    "def try_all(grid):\n",
    "    reward_dict = defaultdict(int)\n",
    "    for policy in all_possible:\n",
    "        g = grid.copy()\n",
    "        r = 0\n",
    "        for action in policy:\n",
    "            r += g.R(action)\n",
    "            g.T(action)\n",
    "        reward_dict[r] += 1\n",
    "    return reward_dict\n"
   ]
  },
  {
   "cell_type": "code",
   "execution_count": null,
   "metadata": {},
   "outputs": [],
   "source": []
  }
 ],
 "metadata": {
  "kernelspec": {
   "display_name": "Python 3",
   "language": "python",
   "name": "python3"
  },
  "language_info": {
   "codemirror_mode": {
    "name": "ipython",
    "version": 3
   },
   "file_extension": ".py",
   "mimetype": "text/x-python",
   "name": "python",
   "nbconvert_exporter": "python",
   "pygments_lexer": "ipython3",
   "version": "3.6.8"
  }
 },
 "nbformat": 4,
 "nbformat_minor": 4
}
