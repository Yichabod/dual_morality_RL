{
 "cells": [
  {
   "cell_type": "code",
   "execution_count": 1,
   "metadata": {},
   "outputs": [],
   "source": [
    "from neural_net import train, load, predict"
   ]
  },
  {
   "cell_type": "code",
   "execution_count": 2,
   "metadata": {},
   "outputs": [
    {
     "name": "stdout",
     "output_type": "stream",
     "text": [
      "Epoch:100, loss: 0.628\n",
      "Epoch:200, loss: 0.029\n",
      "Epoch:300, loss: 0.004\n",
      "Epoch:400, loss: 0.002\n",
      "Model saved as nn_model\n"
     ]
    }
   ],
   "source": [
    "train()"
   ]
  },
  {
   "cell_type": "code",
   "execution_count": 3,
   "metadata": {},
   "outputs": [
    {
     "data": {
      "text/plain": [
       "array([[ 11.221613,   7.164969, -12.855916, -25.688108, -14.412253]],\n",
       "      dtype=float32)"
      ]
     },
     "execution_count": 3,
     "metadata": {},
     "output_type": "execute_result"
    }
   ],
   "source": [
    "import numpy as np\n",
    "net = load()\n",
    "test = np.array([[0, 2, 0, 0, 1],\n",
    "            [0, 0, 0, 0, 0],\n",
    "            [0, 0, 0, 0, 0],\n",
    "            [0, 0, 0, 0, 3],\n",
    "            [0, 0, 0, 4, 0]])\n",
    "\n",
    "predict(net, test)"
   ]
  },
  {
   "cell_type": "code",
   "execution_count": null,
   "metadata": {},
   "outputs": [],
   "source": [
    "from utils import generate_array\n",
    "from graphics import display_grid\n",
    "from grid import Grid\n",
    "import numpy as np"
   ]
  },
  {
   "cell_type": "code",
   "execution_count": null,
   "metadata": {
    "scrolled": true
   },
   "outputs": [],
   "source": [
    "train_xs = np.load(\"grids_data.npy\")\n",
    "train_ys = np.load(\"actions_data.npy\")\n",
    "print(train_xs.shape, train_ys.shape)\n"
   ]
  },
  {
   "cell_type": "code",
   "execution_count": null,
   "metadata": {},
   "outputs": [],
   "source": [
    "action_dict = {(0, 0):0, (-1, 0):1, (0, 1):2, (1, 0):3, (0, -1):4}"
   ]
  },
  {
   "cell_type": "code",
   "execution_count": null,
   "metadata": {},
   "outputs": [],
   "source": [
    "C = int(np.max(train_xs))+1\n",
    "print(C)"
   ]
  },
  {
   "cell_type": "code",
   "execution_count": null,
   "metadata": {},
   "outputs": [],
   "source": [
    "import torch\n",
    "import torch.nn as nn\n",
    "import torch.nn.functional as F"
   ]
  },
  {
   "cell_type": "code",
   "execution_count": null,
   "metadata": {},
   "outputs": [],
   "source": [
    "class Net(nn.Module):\n",
    "    def __init__(self):\n",
    "        super(Net, self).__init__()\n",
    "        self.conv1 = nn.Conv2d(C, 10, 5, padding=2)\n",
    "        self.pool = nn.MaxPool2d(2, 2)\n",
    "        self.conv2 = nn.Conv2d(10, 30, 3, padding=1)\n",
    "        self.fc1 = nn.Linear(30 * 1 * 1, 5)\n",
    "\n",
    "    def forward(self, x):\n",
    "        x = self.pool(F.relu(self.conv1(x)))\n",
    "        x = self.pool(F.relu(self.conv2(x)))\n",
    "        x = x.view(-1, 30 * 1 * 1)\n",
    "        x = self.fc1(x)\n",
    "        return x\n",
    "    \n",
    "net = Net()"
   ]
  },
  {
   "cell_type": "code",
   "execution_count": null,
   "metadata": {},
   "outputs": [],
   "source": [
    "import torch.optim as optim\n",
    "\n",
    "criterion = nn.CrossEntropyLoss()\n",
    "optimizer = optim.Adam(net.parameters(),lr=0.01)#optim.SGD(net.parameters(), lr=0.1, momentum=0.9)\n",
    "\n",
    "# input shape b x c x h x w to net\n",
    "# so need to unsqueeze to make channel dimension of 1, could also make each agent it's own channel instead\n",
    "B, H, W = train_xs.shape\n",
    "train_xs = torch.from_numpy(train_xs).unsqueeze(1).to(torch.long)\n",
    "onehot_train_xs = torch.zeros([B, C, H, W], dtype = torch.float32)\n",
    "\n",
    "print(train_xs.shape, onehot_train_xs.shape)\n",
    "onehot_train_xs.scatter_(1, train_xs, torch.ones(onehot_train_xs.shape))\n",
    "#print(onehot_train_xs[0])\n",
    "train_ys = torch.from_numpy(train_ys).to(torch.long)"
   ]
  },
  {
   "cell_type": "code",
   "execution_count": null,
   "metadata": {},
   "outputs": [],
   "source": [
    "for epoch in range(1000):  # loop over the dataset multiple times\n",
    "\n",
    "    running_loss = 0.0\n",
    "    \n",
    "    inputs, labels = onehot_train_xs, train_ys\n",
    "\n",
    "    # zero the parameter gradients\n",
    "    optimizer.zero_grad()\n",
    "\n",
    "    # forward + backward + optimize\n",
    "    outputs = net(inputs)\n",
    "    loss = criterion(outputs, labels)\n",
    "    loss.backward()\n",
    "    optimizer.step()\n",
    "\n",
    "    # print statistics\n",
    "    running_loss += loss.item()\n",
    "    if epoch%30==0:\n",
    "        print('Epoch:{}, loss: {:.3f}'.format(epoch + 1, running_loss))\n",
    "        running_loss = 0.0"
   ]
  },
  {
   "cell_type": "code",
   "execution_count": null,
   "metadata": {},
   "outputs": [],
   "source": [
    "def predict(input_state, C=5):\n",
    "    '''\n",
    "    input_state: HxW(5x5) numpy array\n",
    "    returns 1x5(num actions) numpy array of pre-softmax probabilities for taking an action\n",
    "    '''\n",
    "    H, W = input_state.shape\n",
    "    onehot_test_xs = torch.zeros([1, C, H, W])\n",
    "    \n",
    "    test_x = torch.from_numpy(input_state).unsqueeze(0).unsqueeze(1).to(torch.long)\n",
    "    onehot_test_xs.scatter_(1, test_x, torch.ones(onehot_test_xs.shape))\n",
    "    outputs = net(onehot_test_xs)\n",
    "    \n",
    "    return outputs.detach().numpy()\n",
    "\n",
    "test = np.array([[0, 2, 0, 0, 1],\n",
    "            [0, 0, 0, 0, 0],\n",
    "            [0, 0, 0, 0, 0],\n",
    "            [0, 0, 0, 0, 3],\n",
    "            [0, 0, 0, 4, 0]])\n",
    "\n",
    "predict(test)"
   ]
  },
  {
   "cell_type": "code",
   "execution_count": null,
   "metadata": {},
   "outputs": [],
   "source": []
  }
 ],
 "metadata": {
  "kernelspec": {
   "display_name": "Python 3",
   "language": "python",
   "name": "python3"
  },
  "language_info": {
   "codemirror_mode": {
    "name": "ipython",
    "version": 3
   },
   "file_extension": ".py",
   "mimetype": "text/x-python",
   "name": "python",
   "nbconvert_exporter": "python",
   "pygments_lexer": "ipython3",
   "version": "3.7.3"
  }
 },
 "nbformat": 4,
 "nbformat_minor": 2
}
