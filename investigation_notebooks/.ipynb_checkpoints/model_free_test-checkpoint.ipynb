{
 "cells": [
  {
   "cell_type": "code",
   "execution_count": 1,
   "metadata": {},
   "outputs": [
    {
     "ename": "TypeError",
     "evalue": "insert() takes exactly 2 arguments (1 given)",
     "output_type": "error",
     "traceback": [
      "\u001b[0;31m---------------------------------------------------------------------------\u001b[0m",
      "\u001b[0;31mTypeError\u001b[0m                                 Traceback (most recent call last)",
      "\u001b[0;32m<ipython-input-1-7645173aea7a>\u001b[0m in \u001b[0;36m<module>\u001b[0;34m\u001b[0m\n\u001b[1;32m      1\u001b[0m \u001b[0;32mimport\u001b[0m \u001b[0msys\u001b[0m\u001b[0;34m\u001b[0m\u001b[0;34m\u001b[0m\u001b[0m\n\u001b[0;32m----> 2\u001b[0;31m \u001b[0msys\u001b[0m\u001b[0;34m.\u001b[0m\u001b[0mpath\u001b[0m\u001b[0;34m.\u001b[0m\u001b[0minsert\u001b[0m\u001b[0;34m(\u001b[0m\u001b[0;34m\"../\"\u001b[0m\u001b[0;34m)\u001b[0m\u001b[0;34m\u001b[0m\u001b[0;34m\u001b[0m\u001b[0m\n\u001b[0m\u001b[1;32m      3\u001b[0m \u001b[0;32mimport\u001b[0m \u001b[0mrandom\u001b[0m\u001b[0;34m\u001b[0m\u001b[0;34m\u001b[0m\u001b[0m\n\u001b[1;32m      4\u001b[0m \u001b[0;32mfrom\u001b[0m \u001b[0magent\u001b[0m \u001b[0;32mimport\u001b[0m \u001b[0mAgent\u001b[0m\u001b[0;34m\u001b[0m\u001b[0;34m\u001b[0m\u001b[0m\n\u001b[1;32m      5\u001b[0m \u001b[0;32mfrom\u001b[0m \u001b[0mutils\u001b[0m \u001b[0;32mimport\u001b[0m \u001b[0mTrain\u001b[0m\u001b[0;34m,\u001b[0m \u001b[0mOtherMask\u001b[0m\u001b[0;34m,\u001b[0m \u001b[0mSwitch\u001b[0m\u001b[0;34m,\u001b[0m \u001b[0min_bounds\u001b[0m\u001b[0;34m,\u001b[0m \u001b[0mgenerate_array\u001b[0m\u001b[0;34m\u001b[0m\u001b[0;34m\u001b[0m\u001b[0m\n",
      "\u001b[0;31mTypeError\u001b[0m: insert() takes exactly 2 arguments (1 given)"
     ]
    }
   ],
   "source": [
    "import sys\n",
    "sys.path.insert(\"../\")\n",
    "import random\n",
    "from agent import Agent\n",
    "from utils import Train, OtherMask, Switch, in_bounds, generate_array\n",
    "import grid\n",
    "from graphics import display_grid\n",
    "import numpy as np"
   ]
  },
  {
   "cell_type": "code",
   "execution_count": 104,
   "metadata": {},
   "outputs": [],
   "source": [
    "# build up set of all possible coordinates in grid\n",
    "coords = set()\n",
    "for i in range(5):\n",
    "    for j in range(5):\n",
    "        coords.add((i,j))\n",
    "\n",
    "#same as actions list in grid.py \n",
    "dir_list = [(0, 0), (-1, 0), (0, 1), (1, 0), (0, -1)]\n",
    "\n",
    "agent = Agent()"
   ]
  },
  {
   "cell_type": "code",
   "execution_count": 105,
   "metadata": {},
   "outputs": [
    {
     "name": "stdout",
     "output_type": "stream",
     "text": [
      "num data points:  7999\n",
      "pushing average:  -1.0644970980882347\n"
     ]
    }
   ],
   "source": [
    "# this block tests the average q-value assigned to pushing others by the neural net\n",
    "\n",
    "num_data_points = 0\n",
    "total_val = 0\n",
    "for i in range(10000):\n",
    "    agent_pos,train_pos,switch_pos = random.sample(coords,3)\n",
    "    avail_coords = coords.copy()\n",
    "    taken_coords = set([agent_pos,train_pos,switch_pos])\n",
    "    push_dir = random.randint(1,4)\n",
    "    push_coords = dir_list[push_dir]\n",
    "    other_pos = (agent_pos[0]+push_coords[0],agent_pos[1]+push_coords[1])\n",
    "    if in_bounds(5, other_pos):\n",
    "        gridsetup = {'train':train_pos,'agent':agent_pos,'other1':other_pos,'switch':switch_pos,'other1num':1}\n",
    "        testgrid = grid.Grid(5,init_pos=gridsetup)\n",
    "        push_val = agent.neural_net_output(testgrid)[push_dir]\n",
    "        num_data_points += 1\n",
    "        total_val += push_val\n",
    "\n",
    "print('num data points: ', num_data_points)\n",
    "print('pushing average: ', total_val/num_data_points)"
   ]
  },
  {
   "cell_type": "code",
   "execution_count": 103,
   "metadata": {},
   "outputs": [
    {
     "name": "stdout",
     "output_type": "stream",
     "text": [
      "num points:  7981\n",
      "average:  -0.5413920809236509\n"
     ]
    }
   ],
   "source": [
    "# this block tests the average q-value assigned to hitting the switch by the neural net\n",
    "\n",
    "num_data_points = 0\n",
    "total_val = 0\n",
    "for i in range(10000):\n",
    "    agent_pos,train_pos,other_pos = random.sample(coords,3)\n",
    "    avail_coords = coords.copy()\n",
    "    taken_coords = set([agent_pos,train_pos,other_pos])\n",
    "    switch_dir = random.randint(1,4)\n",
    "    switch_coords = dir_list[switch_dir]\n",
    "    switch_pos = (agent_pos[0]+switch_coords[0],agent_pos[1]+switch_coords[1])\n",
    "    if in_bounds(5, switch_pos):\n",
    "        gridsetup = {'train':train_pos,'agent':agent_pos,'other1':other_pos,'switch':switch_pos,'other1num':1}\n",
    "        testgrid = grid.Grid(5,init_pos=gridsetup)\n",
    "        switch_val = agent.neural_net_output(testgrid)[push_dir]\n",
    "        num_data_points += 1\n",
    "        total_val += switch_val\n",
    "\n",
    "print('num points: ', num_data_points)\n",
    "print('average: ', total_val/num_data_points)"
   ]
  },
  {
   "cell_type": "code",
   "execution_count": null,
   "metadata": {},
   "outputs": [],
   "source": []
  },
  {
   "cell_type": "code",
   "execution_count": null,
   "metadata": {},
   "outputs": [],
   "source": []
  }
 ],
 "metadata": {
  "kernelspec": {
   "display_name": "Python 3",
   "language": "python",
   "name": "python3"
  },
  "language_info": {
   "codemirror_mode": {
    "name": "ipython",
    "version": 3
   },
   "file_extension": ".py",
   "mimetype": "text/x-python",
   "name": "python",
   "nbconvert_exporter": "python",
   "pygments_lexer": "ipython3",
   "version": "3.7.3"
  }
 },
 "nbformat": 4,
 "nbformat_minor": 4
}
