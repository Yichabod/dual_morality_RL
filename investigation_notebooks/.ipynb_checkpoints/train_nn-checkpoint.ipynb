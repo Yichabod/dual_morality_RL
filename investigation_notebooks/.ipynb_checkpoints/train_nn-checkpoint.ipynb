{
 "cells": [
  {
   "cell_type": "code",
   "execution_count": 1,
   "metadata": {},
   "outputs": [],
   "source": [
    "from utils import generate_array\n",
    "from graphics import display_grid\n",
    "from grid import Grid\n",
    "import numpy as np"
   ]
  },
  {
   "cell_type": "code",
   "execution_count": 2,
   "metadata": {
    "scrolled": true
   },
   "outputs": [
    {
     "name": "stdout",
     "output_type": "stream",
     "text": [
      "(897, 5, 5) (897,)\n"
     ]
    }
   ],
   "source": [
    "\n",
    "train_xs = np.load(\"grids_data.npy\")\n",
    "train_ys = np.load(\"actions_data.npy\")\n",
    "print(train_xs.shape, train_ys.shape)\n"
   ]
  },
  {
   "cell_type": "code",
   "execution_count": 3,
   "metadata": {},
   "outputs": [],
   "source": [
    "action_dict = {(0, 0):0, (-1, 0):1, (0, 1):2, (1, 0):3, (0, -1):4}"
   ]
  },
  {
   "cell_type": "code",
   "execution_count": 4,
   "metadata": {},
   "outputs": [
    {
     "data": {
      "text/plain": [
       "'\\ntrain_xs = []\\ntrain_ys = []\\n\\n# makes 5x5 test grid and chooses random action until terminal state is reached\\ngrid = Grid(5,random=True)\\ngrid.agent_pos\\n#display_grid(grid)\\n#print(grid.current_state)\\nwhile not grid.terminal_state:\\n    print(\"\")\\n    print(generate_array(grid))\\n    train_xs.append(generate_array(grid))\\n    action =  tuple(grid.legal_actions())[0]#random.choice(tuple(grid.legal_actions()))\\n    print(action)\\n    train_ys.append(action_dict[action])\\n    \\n    grid.T(action)\\n    #display_grid(grid)\\n    #print(grid.current_state)\\n'"
      ]
     },
     "execution_count": 4,
     "metadata": {},
     "output_type": "execute_result"
    }
   ],
   "source": [
    "\"\"\"\n",
    "train_xs = []\n",
    "train_ys = []\n",
    "\n",
    "# makes 5x5 test grid and chooses random action until terminal state is reached\n",
    "grid = Grid(5,random=True)\n",
    "grid.agent_pos\n",
    "#display_grid(grid)\n",
    "#print(grid.current_state)\n",
    "while not grid.terminal_state:\n",
    "    print(\"\")\n",
    "    print(generate_array(grid))\n",
    "    train_xs.append(generate_array(grid))\n",
    "    action =  tuple(grid.legal_actions())[0]#random.choice(tuple(grid.legal_actions()))\n",
    "    print(action)\n",
    "    train_ys.append(action_dict[action])\n",
    "    \n",
    "    grid.T(action)\n",
    "    #display_grid(grid)\n",
    "    #print(grid.current_state)\n",
    "\"\"\""
   ]
  },
  {
   "cell_type": "code",
   "execution_count": 5,
   "metadata": {},
   "outputs": [
    {
     "data": {
      "text/plain": [
       "'\\ntrain_xs = np.array(train_xs, dtype=np.int64)\\ntrain_ys = np.array(train_ys, dtype=np.int64)\\nprint(train_xs.shape, train_ys.shape)\\n'"
      ]
     },
     "execution_count": 5,
     "metadata": {},
     "output_type": "execute_result"
    }
   ],
   "source": [
    "\"\"\"\n",
    "train_xs = np.array(train_xs, dtype=np.int64)\n",
    "train_ys = np.array(train_ys, dtype=np.int64)\n",
    "print(train_xs.shape, train_ys.shape)\n",
    "\"\"\""
   ]
  },
  {
   "cell_type": "code",
   "execution_count": 6,
   "metadata": {},
   "outputs": [
    {
     "name": "stdout",
     "output_type": "stream",
     "text": [
      "5\n"
     ]
    }
   ],
   "source": [
    "C = int(np.max(train_xs))+1\n",
    "print(C)"
   ]
  },
  {
   "cell_type": "code",
   "execution_count": 7,
   "metadata": {},
   "outputs": [],
   "source": [
    "import torch\n",
    "import torch.nn as nn\n",
    "import torch.nn.functional as F"
   ]
  },
  {
   "cell_type": "code",
   "execution_count": 8,
   "metadata": {},
   "outputs": [],
   "source": [
    "class Net(nn.Module):\n",
    "    def __init__(self):\n",
    "        super(Net, self).__init__()\n",
    "        self.conv1 = nn.Conv2d(C, 10, 5, padding=2)\n",
    "        self.pool = nn.MaxPool2d(2, 2)\n",
    "        self.conv2 = nn.Conv2d(10, 30, 3, padding=1)\n",
    "        self.fc1 = nn.Linear(30 * 1 * 1, 5)\n",
    "\n",
    "    def forward(self, x):\n",
    "        x = self.pool(F.relu(self.conv1(x)))\n",
    "        x = self.pool(F.relu(self.conv2(x)))\n",
    "        x = x.view(-1, 30 * 1 * 1)\n",
    "        x = self.fc1(x)\n",
    "        return x\n",
    "    \n",
    "net = Net()"
   ]
  },
  {
   "cell_type": "code",
   "execution_count": 9,
   "metadata": {},
   "outputs": [
    {
     "name": "stdout",
     "output_type": "stream",
     "text": [
      "torch.Size([897, 1, 5, 5]) torch.Size([897, 5, 5, 5])\n",
      "tensor([[[1., 1., 1., 1., 0.],\n",
      "         [0., 1., 1., 0., 1.],\n",
      "         [1., 1., 1., 1., 1.],\n",
      "         [1., 1., 1., 1., 1.],\n",
      "         [0., 1., 1., 1., 1.]],\n",
      "\n",
      "        [[0., 0., 0., 0., 0.],\n",
      "         [1., 0., 0., 0., 0.],\n",
      "         [0., 0., 0., 0., 0.],\n",
      "         [0., 0., 0., 0., 0.],\n",
      "         [0., 0., 0., 0., 0.]],\n",
      "\n",
      "        [[0., 0., 0., 0., 0.],\n",
      "         [0., 0., 0., 0., 0.],\n",
      "         [0., 0., 0., 0., 0.],\n",
      "         [0., 0., 0., 0., 0.],\n",
      "         [1., 0., 0., 0., 0.]],\n",
      "\n",
      "        [[0., 0., 0., 0., 1.],\n",
      "         [0., 0., 0., 0., 0.],\n",
      "         [0., 0., 0., 0., 0.],\n",
      "         [0., 0., 0., 0., 0.],\n",
      "         [0., 0., 0., 0., 0.]],\n",
      "\n",
      "        [[0., 0., 0., 0., 0.],\n",
      "         [0., 0., 0., 1., 0.],\n",
      "         [0., 0., 0., 0., 0.],\n",
      "         [0., 0., 0., 0., 0.],\n",
      "         [0., 0., 0., 0., 0.]]])\n"
     ]
    }
   ],
   "source": [
    "import torch.optim as optim\n",
    "\n",
    "criterion = nn.CrossEntropyLoss()\n",
    "optimizer = optim.SGD(net.parameters(), lr=0.001, momentum=0.9)\n",
    "\n",
    "# input shape b x c x h x w to net\n",
    "# so need to unsqueeze to make channel dimension of 1, could also make each agent it's own channel instead\n",
    "B, H, W = train_xs.shape\n",
    "train_xs = torch.from_numpy(train_xs).unsqueeze(1).to(torch.long)\n",
    "onehot_train_xs = torch.zeros([B, C, H, W], dtype = torch.float32)\n",
    "\n",
    "print(train_xs.shape, onehot_train_xs.shape)\n",
    "onehot_train_xs.scatter_(1, train_xs, torch.ones(onehot_train_xs.shape))\n",
    "print(onehot_train_xs[0])\n",
    "train_ys = torch.from_numpy(train_ys).to(torch.long)"
   ]
  },
  {
   "cell_type": "code",
   "execution_count": 10,
   "metadata": {},
   "outputs": [
    {
     "name": "stdout",
     "output_type": "stream",
     "text": [
      "Epoch:10, loss: 1.656\n",
      "Epoch:20, loss: 1.615\n",
      "Epoch:30, loss: 1.566\n",
      "Epoch:40, loss: 1.515\n",
      "Epoch:50, loss: 1.460\n",
      "Epoch:60, loss: 1.402\n",
      "Epoch:70, loss: 1.341\n",
      "Epoch:80, loss: 1.276\n",
      "Epoch:90, loss: 1.213\n",
      "Epoch:100, loss: 1.157\n",
      "Epoch:110, loss: 1.116\n",
      "Epoch:120, loss: 1.093\n",
      "Epoch:130, loss: 1.084\n",
      "Epoch:140, loss: 1.082\n",
      "Epoch:150, loss: 1.082\n",
      "Epoch:160, loss: 1.081\n",
      "Epoch:170, loss: 1.081\n",
      "Epoch:180, loss: 1.081\n",
      "Epoch:190, loss: 1.081\n",
      "Epoch:200, loss: 1.081\n",
      "Epoch:210, loss: 1.081\n",
      "Epoch:220, loss: 1.080\n",
      "Epoch:230, loss: 1.080\n",
      "Epoch:240, loss: 1.080\n",
      "Epoch:250, loss: 1.080\n",
      "Epoch:260, loss: 1.080\n",
      "Epoch:270, loss: 1.080\n",
      "Epoch:280, loss: 1.080\n",
      "Epoch:290, loss: 1.080\n",
      "Epoch:300, loss: 1.080\n"
     ]
    }
   ],
   "source": [
    "for epoch in range(300):  # loop over the dataset multiple times\n",
    "\n",
    "    running_loss = 0.0\n",
    "    \n",
    "    inputs, labels = onehot_train_xs, train_ys\n",
    "\n",
    "    # zero the parameter gradients\n",
    "    optimizer.zero_grad()\n",
    "\n",
    "    # forward + backward + optimize\n",
    "    outputs = net(inputs)\n",
    "    loss = criterion(outputs, labels)\n",
    "    loss.backward()\n",
    "    optimizer.step()\n",
    "\n",
    "    # print statistics\n",
    "    running_loss += loss.item()\n",
    "    if epoch%10==9:\n",
    "        print('Epoch:{}, loss: {:.3f}'.format(epoch + 1, running_loss))\n",
    "        running_loss = 0.0"
   ]
  },
  {
   "cell_type": "code",
   "execution_count": 26,
   "metadata": {},
   "outputs": [
    {
     "name": "stdout",
     "output_type": "stream",
     "text": [
      "torch.Size([1, 1, 5, 5])\n"
     ]
    },
    {
     "data": {
      "text/plain": [
       "array([[ 1.7843754 , -0.3742687 , -0.45063958, -0.44876125, -0.43933558]],\n",
       "      dtype=float32)"
      ]
     },
     "execution_count": 26,
     "metadata": {},
     "output_type": "execute_result"
    }
   ],
   "source": [
    "def predict(input_state):\n",
    "    '''\n",
    "    input_state: HxW(5x5) numpy array\n",
    "    \n",
    "    '''\n",
    "onehot_test_xs = torch.zeros([1, C, H, W])\n",
    "test = np.array([[0, 2, 0, 0, 1],\n",
    "        [0, 0, 0, 0, 0],\n",
    "        [0, 0, 0, 0, 0],\n",
    "        [0, 0, 0, 0, 3],\n",
    "        [0, 0, 0, 4, 0]])\n",
    "test_x = torch.from_numpy(test).unsqueeze(0).unsqueeze(1).to(torch.long)\n",
    "print(test_x.shape)\n",
    "onehot_test_xs.scatter_(1, test_x, torch.ones(onehot_test_xs.shape))\n",
    "outputs = net(onehot_test_xs)\n",
    "outputs.detach().numpy()"
   ]
  },
  {
   "cell_type": "code",
   "execution_count": null,
   "metadata": {},
   "outputs": [],
   "source": [
    "print(onehot_train_xs[0])"
   ]
  },
  {
   "cell_type": "code",
   "execution_count": null,
   "metadata": {},
   "outputs": [],
   "source": []
  }
 ],
 "metadata": {
  "kernelspec": {
   "display_name": "Python 3",
   "language": "python",
   "name": "python3"
  },
  "language_info": {
   "codemirror_mode": {
    "name": "ipython",
    "version": 3
   },
   "file_extension": ".py",
   "mimetype": "text/x-python",
   "name": "python",
   "nbconvert_exporter": "python",
   "pygments_lexer": "ipython3",
   "version": "3.7.4"
  }
 },
 "nbformat": 4,
 "nbformat_minor": 2
}
