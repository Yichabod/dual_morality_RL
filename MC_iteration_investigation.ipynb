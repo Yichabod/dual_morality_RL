{
 "cells": [
  {
   "cell_type": "code",
   "execution_count": 4,
   "metadata": {},
   "outputs": [],
   "source": [
    "import sys\n",
    "import random\n",
    "from agent import Agent\n",
    "from utils import Train, OtherMask, Switch, in_bounds, generate_array\n",
    "import grid\n",
    "from graphics import display_grid\n",
    "import neural_net\n",
    "import numpy as np"
   ]
  },
  {
   "cell_type": "code",
   "execution_count": 2,
   "metadata": {},
   "outputs": [],
   "source": [
    "init_must_move = {'train':(2,0),'agent':(2,2),'other1':(0,1),'switch':(0,0),'other1num':1}\n",
    "init_must_push = {'train':(2,0),'agent':(3,3),'other1':(2,3),'switch':(0,0),'other1num':1}\n",
    "    # the default grid setup means agent must hit switch for optimal payoff\n",
    "init_must_kill = {'train':(2,0),'agent':(4,3),'other1':(3,2),'switch':(0,0),'other2':(2,4),'other1num':1,'other2num':4}"
   ]
  },
  {
   "cell_type": "code",
   "execution_count": 24,
   "metadata": {},
   "outputs": [
    {
     "name": "stdout",
     "output_type": "stream",
     "text": [
      "fails 0.78\n"
     ]
    }
   ],
   "source": [
    "testgrid = grid.Grid(5,init_pos=init_must_push)\n",
    "agent = Agent()\n",
    "fails = 0\n",
    "trials = 100\n",
    "mc_iters = 10\n",
    "for i in range(trials):\n",
    "    Q, policy = agent.mc_first_visit_control(testgrid.copy(), mc_iters)\n",
    "    _,_, reward = agent.run_final_policy(testgrid.copy(), Q,nn_init=True,display=False)\n",
    "    fails = fails + 1 if reward >= -2 else fails\n",
    "\n",
    "print(\"fails\",fails/trials)\n"
   ]
  },
  {
   "cell_type": "markdown",
   "metadata": {},
   "source": [
    "For just getting out of the way of the train:\n",
    "At 10 iters, agent dies 0.12 of the time. At 20 iters, it decreases to 0.04. At 30, it's less than 0.02. At 50, it's 0.002. At 70 iters, it finally reaches 0.\n",
    "\n",
    "For pushing another agent out of the way of the train:\n",
    "Something interesting seems to happen; the agent seems to realise that pushing the other agent can be good(?) but tends to get killed in the process early on.\n",
    "At 10 iters, agent fails 0.81 of the time\n"
   ]
  },
  {
   "cell_type": "code",
   "execution_count": 20,
   "metadata": {},
   "outputs": [
    {
     "data": {
      "text/plain": [
       "{'agent hit by train': -5,\n",
       " 'agent pushes others': -0.5,\n",
       " 'others hit by train': -2,\n",
       " 'agent push switch': -0.2,\n",
       " 'do nothing': 0}"
      ]
     },
     "execution_count": 20,
     "metadata": {},
     "output_type": "execute_result"
    }
   ],
   "source": [
    "testgrid.rewards_dict"
   ]
  },
  {
   "cell_type": "code",
   "execution_count": null,
   "metadata": {},
   "outputs": [],
   "source": []
  }
 ],
 "metadata": {
  "kernelspec": {
   "display_name": "Python 3",
   "language": "python",
   "name": "python3"
  },
  "language_info": {
   "codemirror_mode": {
    "name": "ipython",
    "version": 3
   },
   "file_extension": ".py",
   "mimetype": "text/x-python",
   "name": "python",
   "nbconvert_exporter": "python",
   "pygments_lexer": "ipython3",
   "version": "3.7.3"
  }
 },
 "nbformat": 4,
 "nbformat_minor": 2
}
