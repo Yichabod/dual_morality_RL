{
 "cells": [
  {
   "cell_type": "code",
   "execution_count": 1,
   "metadata": {},
   "outputs": [],
   "source": [
    "from grid import Grid\n",
    "import numpy as np\n",
    "from agent import Agent\n",
    "import time\n",
    "import pickle\n",
    "from matplotlib import pyplot as plt"
   ]
  },
  {
   "cell_type": "code",
   "execution_count": 2,
   "metadata": {},
   "outputs": [],
   "source": [
    "def create_test_grids(amount=1000, size=5):\n",
    "    grids = []\n",
    "    for j in range(amount):\n",
    "        grids.append(Grid(size, random=True))\n",
    "    with open('test_grids.pickle', 'wb') as fil:\n",
    "        pickle.dump(grids, fil)\n"
   ]
  },
  {
   "cell_type": "code",
   "execution_count": 3,
   "metadata": {},
   "outputs": [],
   "source": [
    "#create_test_grids(1000)\n"
   ]
  },
  {
   "cell_type": "code",
   "execution_count": 4,
   "metadata": {},
   "outputs": [],
   "source": [
    "def load_test_grids():\n",
    "    with open('test_grids.pickle', 'rb') as fil:\n",
    "        grids = pickle.load(fil)\n",
    "    return grids"
   ]
  },
  {
   "cell_type": "code",
   "execution_count": 5,
   "metadata": {},
   "outputs": [],
   "source": [
    "grids = load_test_grids()"
   ]
  },
  {
   "cell_type": "code",
   "execution_count": 6,
   "metadata": {},
   "outputs": [],
   "source": [
    "def test_MC_first_visit(testgrids, iterations=100, model_based=True, nn_init=False):\n",
    "    #reward_dist = {}\n",
    "    rewards = []\n",
    "    for testgrid in testgrids:\n",
    "        a = Agent()\n",
    "        if model_based:\n",
    "            if nn_init:\n",
    "                Q, policy = a.mc_first_visit_nn_init(testgrid.copy(), iterations)\n",
    "            else:\n",
    "                Q, policy = a.mc_first_visit_control(testgrid.copy(), iterations) # Q value key is (self.agent_pos,self.train.pos,list(self.other_agents.positions)[0])\n",
    "            grids, action_values, reward = a.run_final_policy(testgrid.copy(), Q, nn_init=nn_init)\n",
    "        else:\n",
    "            reward = a.run_model_free_policy(testgrid.copy())\n",
    "        '''if reward not in reward_dist:\n",
    "            reward_dist[reward] = 1\n",
    "        else:\n",
    "            reward_dist[reward] += 1'''\n",
    "        rewards.append(reward)\n",
    "        \n",
    "    return np.mean(rewards)"
   ]
  },
  {
   "cell_type": "code",
   "execution_count": 7,
   "metadata": {},
   "outputs": [
    {
     "name": "stdout",
     "output_type": "stream",
     "text": [
      "1 -1.0874000000000001\n",
      "3 -0.8707\n",
      "5 -0.7175\n",
      "10 -0.45339999999999997\n",
      "30 -0.268\n",
      "100 -0.2339\n"
     ]
    }
   ],
   "source": [
    "iterations = [1, 3, 5, 10, 30, 100]#, 300, 1000]\n",
    "scores = []\n",
    "\n",
    "for it in iterations:\n",
    "    score = test_MC_first_visit(grids, it, nn_init=False)\n",
    "    print(it, score)\n",
    "    scores.append(score)"
   ]
  },
  {
   "cell_type": "code",
   "execution_count": 8,
   "metadata": {},
   "outputs": [],
   "source": [
    "# Model based results, no init\n",
    "# it, score\n",
    "# 1 -1.0611\n",
    "# 3 -0.9010999999999999\n",
    "# 10 -0.44580000000000003\n",
    "# 30 -0.2856\n",
    "# 100 -0.2311\n",
    "# 300 -0.21\n",
    "# 1000 -0.2019\n",
    "\n",
    "# Model based results, with init\n",
    "# 1 -0.3517\n",
    "# 3 -0.2993\n",
    "# 5 -0.27679999999999993\n",
    "# 10 -0.2627\n",
    "# 30 -0.2398\n",
    "# 100 -0.2105"
   ]
  },
  {
   "cell_type": "code",
   "execution_count": 9,
   "metadata": {},
   "outputs": [
    {
     "data": {
      "image/png": "[encoded data removed]",
      "text/plain": [
       "<Figure size 432x288 with 1 Axes>"
      ]
     },
     "metadata": {
      "needs_background": "light"
     },
     "output_type": "display_data"
    }
   ],
   "source": [
    "plt.plot(iterations, scores)\n",
    "plt.xscale(\"log\")"
   ]
  },
  {
   "cell_type": "code",
   "execution_count": 10,
   "metadata": {},
   "outputs": [
    {
     "name": "stdout",
     "output_type": "stream",
     "text": [
      "-0.4048\n"
     ]
    }
   ],
   "source": [
    "print(test_MC_first_visit(grids, model_based=False))"
   ]
  },
  {
   "cell_type": "code",
   "execution_count": null,
   "metadata": {},
   "outputs": [],
   "source": []
  }
 ],
 "metadata": {
  "kernelspec": {
   "display_name": "Python 3",
   "language": "python",
   "name": "python3"
  },
  "language_info": {
   "codemirror_mode": {
    "name": "ipython",
    "version": 3
   },
   "file_extension": ".py",
   "mimetype": "text/x-python",
   "name": "python",
   "nbconvert_exporter": "python",
   "pygments_lexer": "ipython3",
   "version": "3.7.4"
  }
 },
 "nbformat": 4,
 "nbformat_minor": 2
}
