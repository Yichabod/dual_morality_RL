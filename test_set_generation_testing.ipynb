{
 "cells": [
  {
   "cell_type": "code",
   "execution_count": 1,
   "metadata": {},
   "outputs": [],
   "source": [
    "from grid import Grid\n",
    "import numpy as np\n",
    "from agent import Agent\n",
    "import time\n",
    "import pickle\n",
    "from matplotlib import pyplot as plt"
   ]
  },
  {
   "cell_type": "code",
   "execution_count": 2,
   "metadata": {},
   "outputs": [],
   "source": [
    "def create_test_grids(amount=1000, size=5):\n",
    "    grids = []\n",
    "    for j in range(amount):\n",
    "        grids.append(Grid(size, random=True))\n",
    "    with open('test_grids.pickle', 'wb') as fil:\n",
    "        pickle.dump(grids, fil)\n"
   ]
  },
  {
   "cell_type": "code",
   "execution_count": 3,
   "metadata": {},
   "outputs": [],
   "source": [
    "create_test_grids(100)\n"
   ]
  },
  {
   "cell_type": "code",
   "execution_count": 4,
   "metadata": {},
   "outputs": [],
   "source": [
    "def load_test_grids():\n",
    "    with open('test_grids.pickle', 'rb') as fil:\n",
    "        grids = pickle.load(fil)\n",
    "    return grids"
   ]
  },
  {
   "cell_type": "code",
   "execution_count": 5,
   "metadata": {},
   "outputs": [],
   "source": [
    "grids = load_test_grids()"
   ]
  },
  {
   "cell_type": "code",
   "execution_count": 6,
   "metadata": {},
   "outputs": [],
   "source": [
    "def test_MC_first_visit(testgrids, iterations=100):\n",
    "    #reward_dist = {}\n",
    "    rewards = []\n",
    "    for testgrid in testgrids:\n",
    "        a = Agent()\n",
    "        Q, policy = a.mc_first_visit_control(testgrid.copy(), iterations) # Q value key is (self.agent_pos,self.train.pos,list(self.other_agents.positions)[0])\n",
    "        grids, action_values, reward = a.run_final_policy(testgrid.copy(), Q)\n",
    "        '''if reward not in reward_dist:\n",
    "            reward_dist[reward] = 1\n",
    "        else:\n",
    "            reward_dist[reward] += 1'''\n",
    "        rewards.append(reward)\n",
    "        \n",
    "    return np.mean(rewards)"
   ]
  },
  {
   "cell_type": "code",
   "execution_count": 9,
   "metadata": {},
   "outputs": [
    {
     "name": "stdout",
     "output_type": "stream",
     "text": [
      "1 -1.204\n",
      "10 -0.45\n",
      "20 -0.322\n",
      "30 -0.285\n",
      "50 -0.16\n",
      "70 -0.162\n",
      "100 -0.2\n",
      "200 -0.144\n",
      "500 -0.162\n"
     ]
    }
   ],
   "source": [
    "iterations = [1,10,20, 30, 50, 70, 100,200, 500]\n",
    "scores = []\n",
    "\n",
    "for it in iterations:\n",
    "    score = test_MC_first_visit(grids, it)\n",
    "    print(it, score)\n",
    "    scores.append(score)"
   ]
  },
  {
   "cell_type": "code",
   "execution_count": 10,
   "metadata": {},
   "outputs": [
    {
     "data": {
      "text/plain": [
       "[<matplotlib.lines.Line2D at 0x1dacf03f588>]"
      ]
     },
     "execution_count": 10,
     "metadata": {},
     "output_type": "execute_result"
    },
    {
     "data": {
      "image/png": "[encoded data removed]",
      "text/plain": [
       "<Figure size 432x288 with 1 Axes>"
      ]
     },
     "metadata": {
      "needs_background": "light"
     },
     "output_type": "display_data"
    }
   ],
   "source": [
    "plt.plot(iterations, scores)"
   ]
  },
  {
   "cell_type": "code",
   "execution_count": null,
   "metadata": {},
   "outputs": [],
   "source": []
  }
 ],
 "metadata": {
  "kernelspec": {
   "display_name": "Python 3",
   "language": "python",
   "name": "python3"
  },
  "language_info": {
   "codemirror_mode": {
    "name": "ipython",
    "version": 3
   },
   "file_extension": ".py",
   "mimetype": "text/x-python",
   "name": "python",
   "nbconvert_exporter": "python",
   "pygments_lexer": "ipython3",
   "version": "3.7.4"
  }
 },
 "nbformat": 4,
 "nbformat_minor": 2
}
