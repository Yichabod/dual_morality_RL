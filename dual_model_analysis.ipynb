{
 "cells": [
  {
   "cell_type": "code",
   "execution_count": 1,
   "metadata": {},
   "outputs": [],
   "source": [
    "from new_grid import Grid\n",
    "from graphics import display_grid\n",
    "from agent import Agent\n",
    "import matplotlib.pyplot as plt"
   ]
  },
  {
   "cell_type": "code",
   "execution_count": 2,
   "metadata": {},
   "outputs": [],
   "source": [
    "easy1 = {'train':(1,0),'trainvel':(0,1),'cargo1':(3,2),'num1':1,'target1':(2,2), 'switch':(0,0),'agent':(4,2),'cargo2':(2,4),'num2':2,'target2':(0,3)}\n",
    "\n",
    "push3 = {\"train\": (0, 3), \"trainvel\": (1, 0), \"cargo1\": (2, 2), \"target1\": (0, 4), \"switch\": (2, 4), \"agent\": (2, 0), \"cargo2\": (3, 3), \"target2\": (3, 4),'num1':1, \"num2\":2}\n",
    "\n",
    "swit27 = {\"train\": (1, 0), \"trainvel\": (0, 1), \"cargo1\": (0, 1), \"target1\": (4, 3), \"switch\": (3, 3), \"agent\": (4, 4), \"cargo2\": (1, 2), \"target2\": (0, 3), 'num1':1, \"num2\":2}\n"
   ]
  },
  {
   "cell_type": "code",
   "execution_count": 3,
   "metadata": {},
   "outputs": [
    {
     "name": "stdout",
     "output_type": "stream",
     "text": [
      "[['_' '_' '_' '_' '◉']\n",
      " ['b' '_' '_' 'S' 'a']\n",
      " ['_' '2' '_' '_' '_']\n",
      " ['1' '_' '_' '_' '_']\n",
      " ['_' '^' '_' '_' '_']]\n",
      "=====\n"
     ]
    },
    {
     "data": {
      "text/plain": [
       "array([['_', '_', '_', '_', '◉'],\n",
       "       ['b', '_', '_', 'S', 'a'],\n",
       "       ['_', '2', '_', '_', '_'],\n",
       "       ['1', '_', '_', '_', '_'],\n",
       "       ['_', '^', '_', '_', '_']], dtype='<U1')"
      ]
     },
     "execution_count": 3,
     "metadata": {},
     "output_type": "execute_result"
    }
   ],
   "source": [
    "testgrid = Grid(5, random=False, init_pos=swit27)\n",
    "display_grid(testgrid)"
   ]
  },
  {
   "cell_type": "code",
   "execution_count": 6,
   "metadata": {},
   "outputs": [
    {
     "name": "stdout",
     "output_type": "stream",
     "text": [
      "neural net loaded\n",
      "[-1.0, -1.0, -1.0, -1.0, -1.0, -1.0, -1.0, -1.0] [-2.0, -1.5, -1.0, -1.0, -1.0, -1.0, -1.0, -1.0]\n"
     ]
    }
   ],
   "source": [
    "#remove softmax from code, change so effects last\n",
    "\n",
    "x = [0,25,50,75,100,125,150,175]\n",
    "dual = [0]*len(x)\n",
    "based = [0]*len(x)\n",
    "num_avg = 10\n",
    "agent = Agent()\n",
    "\n",
    "for idx,iters in enumerate(x):\n",
    "    for i in range(num_avg):\n",
    "        Q, policy = agent.mc_first_visit_control(testgrid.copy(), iters=iters, nn_init=True,cutoff=0.4)\n",
    "        grids,actions,r = agent.run_final_policy(testgrid.copy(), Q,nn_init=True,display=False)\n",
    "        dual[idx] += r\n",
    "        \n",
    "        Q, policy = agent.mc_first_visit_control(testgrid.copy(), iters=iters, nn_init=False)\n",
    "        grids,actions,r = agent.run_final_policy(testgrid.copy(), Q,nn_init=False,display=False)\n",
    "        based[idx] += r\n",
    "       \n",
    "    \n",
    "dual = [x/num_avg for x in dual]\n",
    "based = [x/num_avg for x in based]\n",
    "print(dual,based)\n"
   ]
  },
  {
   "cell_type": "code",
   "execution_count": 8,
   "metadata": {},
   "outputs": [
    {
     "data": {
      "text/plain": [
       "[<matplotlib.lines.Line2D at 0x1232ef128>]"
      ]
     },
     "execution_count": 8,
     "metadata": {},
     "output_type": "execute_result"
    },
    {
     "data": {
      "image/png": "[encoded data removed]",
      "text/plain": [
       "<Figure size 432x288 with 1 Axes>"
      ]
     },
     "metadata": {
      "needs_background": "light"
     },
     "output_type": "display_data"
    }
   ],
   "source": [
    "plt.plot(x, dual, label = \"dual\")\n",
    "plt.plot(x, based, label = \"based\")"
   ]
  },
  {
   "cell_type": "code",
   "execution_count": null,
   "metadata": {},
   "outputs": [],
   "source": []
  }
 ],
 "metadata": {
  "kernelspec": {
   "display_name": "Python 3",
   "language": "python",
   "name": "python3"
  },
  "language_info": {
   "codemirror_mode": {
    "name": "ipython",
    "version": 3
   },
   "file_extension": ".py",
   "mimetype": "text/x-python",
   "name": "python",
   "nbconvert_exporter": "python",
   "pygments_lexer": "ipython3",
   "version": "3.6.8"
  }
 },
 "nbformat": 4,
 "nbformat_minor": 4
}
