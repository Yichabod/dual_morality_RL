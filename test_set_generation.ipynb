{
 "cells": [
  {
   "cell_type": "code",
   "execution_count": 1,
   "metadata": {},
   "outputs": [],
   "source": [
    "from grid import Grid\n",
    "import numpy as np\n",
    "from agent import Agent\n",
    "import time\n",
    "import pickle\n",
    "from matplotlib import pyplot as plt"
   ]
  },
  {
   "cell_type": "code",
   "execution_count": 2,
   "metadata": {},
   "outputs": [],
   "source": [
    "def create_test_grids(amount=1000, size=5):\n",
    "    grids = []\n",
    "    for j in range(amount):\n",
    "        grids.append(Grid(size, random=True))\n",
    "    with open('test_grids.pickle', 'wb') as fil:\n",
    "        pickle.dump(grids, fil)\n"
   ]
  },
  {
   "cell_type": "code",
   "execution_count": 3,
   "metadata": {},
   "outputs": [],
   "source": [
    "#create_test_grids(1000)\n"
   ]
  },
  {
   "cell_type": "code",
   "execution_count": 4,
   "metadata": {},
   "outputs": [],
   "source": [
    "def load_test_grids():\n",
    "    with open('test_grids.pickle', 'rb') as fil:\n",
    "        grids = pickle.load(fil)\n",
    "    return grids"
   ]
  },
  {
   "cell_type": "code",
   "execution_count": 5,
   "metadata": {},
   "outputs": [],
   "source": [
    "grids = load_test_grids()"
   ]
  },
  {
   "cell_type": "code",
   "execution_count": 6,
   "metadata": {},
   "outputs": [],
   "source": [
    "def test_MC_first_visit(testgrids, iterations=100, model_based=True, nn_init=False):\n",
    "    reward_dist = {}\n",
    "    rewards = []\n",
    "    for testgrid in testgrids:\n",
    "        a = Agent()\n",
    "        if model_based:\n",
    "            Q, policy = a.mc_first_visit_control(testgrid.copy(), iterations, nn_init=nn_init) # Q value key is (self.agent_pos,self.train.pos,list(self.other_agents.positions)[0])\n",
    "            grids, action_values, reward = a.run_final_policy(testgrid.copy(), Q, nn_init=nn_init)\n",
    "        else:\n",
    "            reward = a.run_model_free_policy(testgrid.copy())\n",
    "        if reward not in reward_dist:\n",
    "            reward_dist[reward] = 1\n",
    "        else:\n",
    "            reward_dist[reward] += 1\n",
    "        rewards.append(reward)\n",
    "        \n",
    "    return np.mean(rewards), reward_dist"
   ]
  },
  {
   "cell_type": "code",
   "execution_count": null,
   "metadata": {},
   "outputs": [
    {
     "name": "stdout",
     "output_type": "stream",
     "text": [
      "1 -0.3364 {0: 732, -0.5: 20, -2: 134, -2.2: 7, -0.2: 76, -2.4: 2, -0.4: 13, -0.6000000000000001: 6, -0.8999999999999999: 1, -5.6000000000000005: 1, -1.0: 7, -0.7: 1}\n",
      "3 -0.2926 {0: 769, -0.5: 16, -2: 121, -5: 2, -0.2: 72, -0.4: 9, -0.6000000000000001: 5, -2.2: 1, -2.4000000000000004: 2, -1.2: 1, -0.7: 1, -2.7: 1}\n",
      "5 -0.27 {0: 789, -2: 116, -5.2: 2, -0.2: 69, -0.5: 18, -0.4: 3, -2.2: 1, -0.7: 2}\n"
     ]
    }
   ],
   "source": [
    "iterations = [0, 1, 3, 5, 10, 30, 100]#, 300, 1000]\n",
    "scores = []\n",
    "\n",
    "agent_deaths = []\n",
    "other_deaths = []\n",
    "switch_uses = []\n",
    "pushes = []\n",
    "nothing = []\n",
    "\n",
    "for it in iterations:\n",
    "    score, reward_dist = test_MC_first_visit(grids, it, nn_init=True)\n",
    "    print(it, score, reward_dist)\n",
    "    agent_deaths.append(0)\n",
    "    other_deaths.append(0)\n",
    "    switch_uses.append(0)\n",
    "    pushes.append(0)\n",
    "    nothing.append(0)\n",
    "    for key in reward_dist:\n",
    "        if key<=-5:\n",
    "            agent_deaths[-1] += reward_dist[key]\n",
    "        elif key <=-2:\n",
    "            other_deaths[-1] += reward_dist[key]\n",
    "        if key == -0.5:\n",
    "            pushes[-1] += reward_dist[key]\n",
    "        if key ==-0.2:\n",
    "            switch_uses[-1] += reward_dist[key]\n",
    "        if key ==0:\n",
    "            nothing[-1] += reward_dist[key]\n",
    "        \n",
    "    scores.append(score)\n",
    "    "
   ]
  },
  {
   "cell_type": "code",
   "execution_count": null,
   "metadata": {},
   "outputs": [],
   "source": [
    "plt.plot(iterations, scores)\n",
    "plt.plot(iterations, scores)\n",
    "plt.xscale(\"log\")"
   ]
  },
  {
   "cell_type": "code",
   "execution_count": null,
   "metadata": {},
   "outputs": [],
   "source": []
  },
  {
   "cell_type": "code",
   "execution_count": null,
   "metadata": {},
   "outputs": [],
   "source": [
    "mb_scores = []\n",
    "\n",
    "for it in iterations:\n",
    "    score, reward_dist = test_MC_first_visit(grids, it, nn_init=False)\n",
    "    print(it, score, reward_dist)\n",
    "    mb_scores.append(score)"
   ]
  },
  {
   "cell_type": "code",
   "execution_count": null,
   "metadata": {},
   "outputs": [],
   "source": [
    "plt.plot(iterations, mb_scores, label = \"Original MC-first visit\")\n",
    "plt.plot(iterations, scores, label = \"MC-first visit with NN-initialization\")\n",
    "plt.xlabel(\"MC-first visit iterations\")\n",
    "plt.ylabel(\"Average reward on test scenarios\")\n",
    "\n",
    "plt.legend()\n",
    "plt.xscale(\"log\")"
   ]
  },
  {
   "cell_type": "code",
   "execution_count": null,
   "metadata": {},
   "outputs": [],
   "source": [
    "# Model based results, no init\n",
    "# it, score\n",
    "# 1 -1.0611\n",
    "# 3 -0.9010999999999999\n",
    "# 10 -0.44580000000000003\n",
    "# 30 -0.2856\n",
    "# 100 -0.2311\n",
    "# 300 -0.21\n",
    "# 1000 -0.2019\n",
    "\n",
    "# Model based results, with init\n",
    "# 1 -0.3517\n",
    "# 3 -0.2993\n",
    "# 5 -0.27679999999999993\n",
    "# 10 -0.2627\n",
    "# 30 -0.2398\n",
    "# 100 -0.2105"
   ]
  },
  {
   "cell_type": "code",
   "execution_count": null,
   "metadata": {},
   "outputs": [],
   "source": [
    "print(test_MC_first_visit(grids, model_based=False))"
   ]
  },
  {
   "cell_type": "code",
   "execution_count": null,
   "metadata": {},
   "outputs": [],
   "source": [
    "print(test_MC_first_visit(grids, 0, nn_init=True))"
   ]
  },
  {
   "cell_type": "code",
   "execution_count": null,
   "metadata": {},
   "outputs": [],
   "source": []
  }
 ],
 "metadata": {
  "kernelspec": {
   "display_name": "Python 3",
   "language": "python",
   "name": "python3"
  },
  "language_info": {
   "codemirror_mode": {
    "name": "ipython",
    "version": 3
   },
   "file_extension": ".py",
   "mimetype": "text/x-python",
   "name": "python",
   "nbconvert_exporter": "python",
   "pygments_lexer": "ipython3",
   "version": "3.7.4"
  }
 },
 "nbformat": 4,
 "nbformat_minor": 2
}
