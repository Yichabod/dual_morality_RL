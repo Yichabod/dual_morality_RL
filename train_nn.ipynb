{
 "cells": [
  {
   "cell_type": "code",
   "execution_count": 50,
   "metadata": {},
   "outputs": [],
   "source": [
    "from utils import generate_array\n",
    "from graphics import display_grid\n",
    "from grid import Grid\n",
    "import numpy as np"
   ]
  },
  {
   "cell_type": "code",
   "execution_count": 51,
   "metadata": {
    "scrolled": true
   },
   "outputs": [
    {
     "name": "stdout",
     "output_type": "stream",
     "text": [
      "(918, 5, 5) (918,)\n"
     ]
    }
   ],
   "source": [
    "train_xs = np.load(\"grids_data.npy\")\n",
    "train_ys = np.load(\"actions_data.npy\")\n",
    "print(train_xs.shape, train_ys.shape)\n"
   ]
  },
  {
   "cell_type": "code",
   "execution_count": 52,
   "metadata": {},
   "outputs": [],
   "source": [
    "action_dict = {(0, 0):0, (-1, 0):1, (0, 1):2, (1, 0):3, (0, -1):4}"
   ]
  },
  {
   "cell_type": "code",
   "execution_count": 3,
   "metadata": {},
   "outputs": [
    {
     "name": "stdout",
     "output_type": "stream",
     "text": [
      "\n",
      "[[3 0 0 0 0]\n",
      " [1 0 4 2 0]\n",
      " [0 0 0 0 0]\n",
      " [0 0 0 0 0]\n",
      " [0 0 0 0 0]]\n",
      "(0, 0)\n",
      "\n",
      "[[0 3 0 0 0]\n",
      " [1 0 4 2 0]\n",
      " [0 0 0 0 0]\n",
      " [0 0 0 0 0]\n",
      " [0 0 0 0 0]]\n",
      "(0, 0)\n",
      "\n",
      "[[0 0 3 0 0]\n",
      " [1 0 4 2 0]\n",
      " [0 0 0 0 0]\n",
      " [0 0 0 0 0]\n",
      " [0 0 0 0 0]]\n",
      "(0, 0)\n"
     ]
    }
   ],
   "source": [
    "\"\"\"\n",
    "train_xs = []\n",
    "train_ys = []\n",
    "\n",
    "# makes 5x5 test grid and chooses random action until terminal state is reached\n",
    "grid = Grid(5,random=True)\n",
    "grid.agent_pos\n",
    "#display_grid(grid)\n",
    "#print(grid.current_state)\n",
    "while not grid.terminal_state:\n",
    "    print(\"\")\n",
    "    print(generate_array(grid))\n",
    "    train_xs.append(generate_array(grid))\n",
    "    action =  tuple(grid.legal_actions())[0]#random.choice(tuple(grid.legal_actions()))\n",
    "    print(action)\n",
    "    train_ys.append(action_dict[action])\n",
    "    \n",
    "    grid.T(action)\n",
    "    #display_grid(grid)\n",
    "    #print(grid.current_state)\n",
    "\"\"\""
   ]
  },
  {
   "cell_type": "code",
   "execution_count": 4,
   "metadata": {},
   "outputs": [
    {
     "name": "stdout",
     "output_type": "stream",
     "text": [
      "(3, 5, 5) (3,)\n"
     ]
    }
   ],
   "source": [
    "\"\"\"\n",
    "train_xs = np.array(train_xs, dtype=np.int64)\n",
    "train_ys = np.array(train_ys, dtype=np.int64)\n",
    "print(train_xs.shape, train_ys.shape)\n",
    "\"\"\""
   ]
  },
  {
   "cell_type": "code",
   "execution_count": 53,
   "metadata": {},
   "outputs": [
    {
     "name": "stdout",
     "output_type": "stream",
     "text": [
      "5\n"
     ]
    }
   ],
   "source": [
    "C = int(np.max(train_xs))+1\n",
    "print(C)"
   ]
  },
  {
   "cell_type": "code",
   "execution_count": 54,
   "metadata": {},
   "outputs": [],
   "source": [
    "import torch\n",
    "import torch.nn as nn\n",
    "import torch.nn.functional as F"
   ]
  },
  {
   "cell_type": "code",
   "execution_count": 55,
   "metadata": {},
   "outputs": [],
   "source": [
    "class Net(nn.Module):\n",
    "    def __init__(self):\n",
    "        super(Net, self).__init__()\n",
    "        self.conv1 = nn.Conv2d(C, 10, 5, padding=2)\n",
    "        self.pool = nn.MaxPool2d(2, 2)\n",
    "        self.conv2 = nn.Conv2d(10, 30, 3, padding=1)\n",
    "        self.fc1 = nn.Linear(30 * 1 * 1, 5)\n",
    "\n",
    "    def forward(self, x):\n",
    "        x = self.pool(F.relu(self.conv1(x)))\n",
    "        x = self.pool(F.relu(self.conv2(x)))\n",
    "        x = x.view(-1, 30 * 1 * 1)\n",
    "        x = self.fc1(x)\n",
    "        return x\n",
    "    \n",
    "net = Net()"
   ]
  },
  {
   "cell_type": "code",
   "execution_count": 56,
   "metadata": {},
   "outputs": [
    {
     "name": "stdout",
     "output_type": "stream",
     "text": [
      "torch.Size([918, 1, 5, 5]) torch.Size([918, 5, 5, 5])\n",
      "tensor([[[1., 1., 1., 0., 1.],\n",
      "         [1., 1., 1., 1., 1.],\n",
      "         [1., 1., 1., 0., 1.],\n",
      "         [1., 1., 1., 1., 0.],\n",
      "         [1., 1., 0., 1., 1.]],\n",
      "\n",
      "        [[0., 0., 0., 0., 0.],\n",
      "         [0., 0., 0., 0., 0.],\n",
      "         [0., 0., 0., 0., 0.],\n",
      "         [0., 0., 0., 0., 1.],\n",
      "         [0., 0., 0., 0., 0.]],\n",
      "\n",
      "        [[0., 0., 0., 0., 0.],\n",
      "         [0., 0., 0., 0., 0.],\n",
      "         [0., 0., 0., 1., 0.],\n",
      "         [0., 0., 0., 0., 0.],\n",
      "         [0., 0., 0., 0., 0.]],\n",
      "\n",
      "        [[0., 0., 0., 1., 0.],\n",
      "         [0., 0., 0., 0., 0.],\n",
      "         [0., 0., 0., 0., 0.],\n",
      "         [0., 0., 0., 0., 0.],\n",
      "         [0., 0., 0., 0., 0.]],\n",
      "\n",
      "        [[0., 0., 0., 0., 0.],\n",
      "         [0., 0., 0., 0., 0.],\n",
      "         [0., 0., 0., 0., 0.],\n",
      "         [0., 0., 0., 0., 0.],\n",
      "         [0., 0., 1., 0., 0.]]])\n"
     ]
    }
   ],
   "source": [
    "import torch.optim as optim\n",
    "\n",
    "criterion = nn.CrossEntropyLoss()\n",
    "optimizer = optim.SGD(net.parameters(), lr=0.001, momentum=0.9)\n",
    "\n",
    "# input shape b x c x h x w to net\n",
    "# so need to unsqueeze to make channel dimension of 1, could also make each agent it's own channel instead\n",
    "B, H, W = train_xs.shape\n",
    "train_xs = torch.from_numpy(train_xs).unsqueeze(1)\n",
    "onehot_train_xs = torch.zeros(B, C, H, W)\n",
    "\n",
    "print(train_xs.shape, onehot_train_xs.shape)\n",
    "onehot_train_xs.scatter_(1, train_xs, torch.ones(onehot_train_xs.shape))\n",
    "print(onehot_train_xs[0])\n",
    "train_ys = torch.from_numpy(train_ys)"
   ]
  },
  {
   "cell_type": "code",
   "execution_count": 57,
   "metadata": {},
   "outputs": [
    {
     "name": "stdout",
     "output_type": "stream",
     "text": [
      "Epoch:10, loss: 1.596\n",
      "Epoch:20, loss: 1.542\n",
      "Epoch:30, loss: 1.484\n",
      "Epoch:40, loss: 1.427\n",
      "Epoch:50, loss: 1.370\n",
      "Epoch:60, loss: 1.313\n",
      "Epoch:70, loss: 1.255\n",
      "Epoch:80, loss: 1.198\n",
      "Epoch:90, loss: 1.144\n",
      "Epoch:100, loss: 1.100\n",
      "Epoch:110, loss: 1.070\n",
      "Epoch:120, loss: 1.054\n",
      "Epoch:130, loss: 1.047\n",
      "Epoch:140, loss: 1.045\n",
      "Epoch:150, loss: 1.044\n",
      "Epoch:160, loss: 1.044\n",
      "Epoch:170, loss: 1.044\n",
      "Epoch:180, loss: 1.044\n",
      "Epoch:190, loss: 1.043\n",
      "Epoch:200, loss: 1.043\n",
      "Epoch:210, loss: 1.043\n",
      "Epoch:220, loss: 1.043\n",
      "Epoch:230, loss: 1.043\n",
      "Epoch:240, loss: 1.043\n",
      "Epoch:250, loss: 1.042\n",
      "Epoch:260, loss: 1.042\n",
      "Epoch:270, loss: 1.042\n",
      "Epoch:280, loss: 1.042\n",
      "Epoch:290, loss: 1.042\n",
      "Epoch:300, loss: 1.042\n"
     ]
    }
   ],
   "source": [
    "for epoch in range(300):  # loop over the dataset multiple times\n",
    "\n",
    "    running_loss = 0.0\n",
    "    \n",
    "    inputs, labels = onehot_train_xs, train_ys\n",
    "\n",
    "    # zero the parameter gradients\n",
    "    optimizer.zero_grad()\n",
    "\n",
    "    # forward + backward + optimize\n",
    "    outputs = net(inputs)\n",
    "    loss = criterion(outputs, labels)\n",
    "    loss.backward()\n",
    "    optimizer.step()\n",
    "\n",
    "    # print statistics\n",
    "    running_loss += loss.item()\n",
    "    if epoch%10==9:\n",
    "        print('Epoch:{}, loss: {:.3f}'.format(epoch + 1, running_loss))\n",
    "        running_loss = 0.0"
   ]
  },
  {
   "cell_type": "code",
   "execution_count": 61,
   "metadata": {},
   "outputs": [
    {
     "ename": "TypeError",
     "evalue": "scatter_() received an invalid combination of arguments - got (int, numpy.ndarray, Tensor), but expected one of:\n * (int dim, Tensor index, Tensor src)\n      didn't match because some of the arguments have invalid types: (\u001b[32;1mint\u001b[0m, \u001b[31;1mnumpy.ndarray\u001b[0m, \u001b[32;1mTensor\u001b[0m)\n * (int dim, Tensor index, Number value)\n      didn't match because some of the arguments have invalid types: (\u001b[32;1mint\u001b[0m, \u001b[31;1mnumpy.ndarray\u001b[0m, \u001b[31;1mTensor\u001b[0m)\n",
     "output_type": "error",
     "traceback": [
      "\u001b[0;31m---------------------------------------------------------------------------\u001b[0m",
      "\u001b[0;31mTypeError\u001b[0m                                 Traceback (most recent call last)",
      "\u001b[0;32m<ipython-input-61-53d65e9a4979>\u001b[0m in \u001b[0;36m<module>\u001b[0;34m()\u001b[0m\n\u001b[1;32m      5\u001b[0m         \u001b[0;34m[\u001b[0m\u001b[0;36m0\u001b[0m\u001b[0;34m,\u001b[0m \u001b[0;36m0\u001b[0m\u001b[0;34m,\u001b[0m \u001b[0;36m0\u001b[0m\u001b[0;34m,\u001b[0m \u001b[0;36m0\u001b[0m\u001b[0;34m,\u001b[0m \u001b[0;36m3\u001b[0m\u001b[0;34m]\u001b[0m\u001b[0;34m,\u001b[0m\u001b[0;34m\u001b[0m\u001b[0m\n\u001b[1;32m      6\u001b[0m         [0, 0, 0, 4, 0]])\n\u001b[0;32m----> 7\u001b[0;31m \u001b[0monehot_train_xs\u001b[0m\u001b[0;34m.\u001b[0m\u001b[0mscatter_\u001b[0m\u001b[0;34m(\u001b[0m\u001b[0;36m1\u001b[0m\u001b[0;34m,\u001b[0m \u001b[0mtest\u001b[0m\u001b[0;34m,\u001b[0m \u001b[0mtorch\u001b[0m\u001b[0;34m.\u001b[0m\u001b[0mones\u001b[0m\u001b[0;34m(\u001b[0m\u001b[0monehot_train_xs\u001b[0m\u001b[0;34m.\u001b[0m\u001b[0mshape\u001b[0m\u001b[0;34m)\u001b[0m\u001b[0;34m)\u001b[0m\u001b[0;34m\u001b[0m\u001b[0m\n\u001b[0m\u001b[1;32m      8\u001b[0m \u001b[0moutputs\u001b[0m \u001b[0;34m=\u001b[0m \u001b[0mnet\u001b[0m\u001b[0;34m(\u001b[0m\u001b[0mtest\u001b[0m\u001b[0;34m)\u001b[0m\u001b[0;34m\u001b[0m\u001b[0m\n",
      "\u001b[0;31mTypeError\u001b[0m: scatter_() received an invalid combination of arguments - got (int, numpy.ndarray, Tensor), but expected one of:\n * (int dim, Tensor index, Tensor src)\n      didn't match because some of the arguments have invalid types: (\u001b[32;1mint\u001b[0m, \u001b[31;1mnumpy.ndarray\u001b[0m, \u001b[32;1mTensor\u001b[0m)\n * (int dim, Tensor index, Number value)\n      didn't match because some of the arguments have invalid types: (\u001b[32;1mint\u001b[0m, \u001b[31;1mnumpy.ndarray\u001b[0m, \u001b[31;1mTensor\u001b[0m)\n"
     ]
    }
   ],
   "source": [
    "onehot_train_xs = torch.zeros(B, C, H, W)\n",
    "test = np.array([[0, 2, 0, 0, 1],\n",
    "        [0, 0, 0, 0, 0],\n",
    "        [0, 0, 0, 0, 0],\n",
    "        [0, 0, 0, 0, 3],\n",
    "        [0, 0, 0, 4, 0]])\n",
    "onehot_train_xs.scatter_(1, test, torch.ones(onehot_train_xs.shape))\n",
    "outputs = net(test)"
   ]
  },
  {
   "cell_type": "code",
   "execution_count": 60,
   "metadata": {},
   "outputs": [
    {
     "name": "stdout",
     "output_type": "stream",
     "text": [
      "tensor([[[1., 1., 1., 0., 1.],\n",
      "         [1., 1., 1., 1., 1.],\n",
      "         [1., 1., 1., 0., 1.],\n",
      "         [1., 1., 1., 1., 0.],\n",
      "         [1., 1., 0., 1., 1.]],\n",
      "\n",
      "        [[0., 0., 0., 0., 0.],\n",
      "         [0., 0., 0., 0., 0.],\n",
      "         [0., 0., 0., 0., 0.],\n",
      "         [0., 0., 0., 0., 1.],\n",
      "         [0., 0., 0., 0., 0.]],\n",
      "\n",
      "        [[0., 0., 0., 0., 0.],\n",
      "         [0., 0., 0., 0., 0.],\n",
      "         [0., 0., 0., 1., 0.],\n",
      "         [0., 0., 0., 0., 0.],\n",
      "         [0., 0., 0., 0., 0.]],\n",
      "\n",
      "        [[0., 0., 0., 1., 0.],\n",
      "         [0., 0., 0., 0., 0.],\n",
      "         [0., 0., 0., 0., 0.],\n",
      "         [0., 0., 0., 0., 0.],\n",
      "         [0., 0., 0., 0., 0.]],\n",
      "\n",
      "        [[0., 0., 0., 0., 0.],\n",
      "         [0., 0., 0., 0., 0.],\n",
      "         [0., 0., 0., 0., 0.],\n",
      "         [0., 0., 0., 0., 0.],\n",
      "         [0., 0., 1., 0., 0.]]])\n"
     ]
    }
   ],
   "source": [
    "print(onehot_train_xs[0])"
   ]
  },
  {
   "cell_type": "code",
   "execution_count": null,
   "metadata": {},
   "outputs": [],
   "source": []
  }
 ],
 "metadata": {
  "kernelspec": {
   "display_name": "Python 3",
   "language": "python",
   "name": "python3"
  },
  "language_info": {
   "codemirror_mode": {
    "name": "ipython",
    "version": 3
   },
   "file_extension": ".py",
   "mimetype": "text/x-python",
   "name": "python",
   "nbconvert_exporter": "python",
   "pygments_lexer": "ipython3",
   "version": "3.6.5"
  }
 },
 "nbformat": 4,
 "nbformat_minor": 2
}
