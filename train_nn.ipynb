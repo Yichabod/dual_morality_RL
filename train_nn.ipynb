{
 "cells": [
  {
   "cell_type": "code",
   "execution_count": 1,
   "metadata": {},
   "outputs": [],
   "source": [
    "from utils import generate_array\n",
    "from graphics import display_grid\n",
    "from grid import Grid\n",
    "import numpy as np"
   ]
  },
  {
   "cell_type": "code",
   "execution_count": 2,
   "metadata": {},
   "outputs": [],
   "source": [
    "actions = {(0, 0):0, (-1, 0):1, (0, 1):2, (1, 0):3, (0, -1):4}"
   ]
  },
  {
   "cell_type": "code",
   "execution_count": 3,
   "metadata": {},
   "outputs": [
    {
     "name": "stdout",
     "output_type": "stream",
     "text": [
      "\n",
      "[[3 0 0 0 0]\n",
      " [0 1 0 2 0]\n",
      " [0 0 0 4 0]\n",
      " [0 0 0 0 0]\n",
      " [0 0 0 0 0]]\n",
      "(0, 0)\n",
      "\n",
      "[[0 0 0 0 0]\n",
      " [3 1 0 2 0]\n",
      " [0 0 0 4 0]\n",
      " [0 0 0 0 0]\n",
      " [0 0 0 0 0]]\n",
      "(0, 0)\n",
      "\n",
      "[[0 0 0 0 0]\n",
      " [0 1 0 2 0]\n",
      " [3 0 0 4 0]\n",
      " [0 0 0 0 0]\n",
      " [0 0 0 0 0]]\n",
      "(0, 0)\n",
      "\n",
      "[[0 0 0 0 0]\n",
      " [0 1 0 2 0]\n",
      " [0 0 0 4 0]\n",
      " [3 0 0 0 0]\n",
      " [0 0 0 0 0]]\n",
      "(0, 0)\n",
      "\n",
      "[[0 0 0 0 0]\n",
      " [0 1 0 2 0]\n",
      " [0 0 0 4 0]\n",
      " [0 0 0 0 0]\n",
      " [3 0 0 0 0]]\n",
      "(0, 0)\n"
     ]
    }
   ],
   "source": [
    "train_xs = []\n",
    "train_ys = []\n",
    "\n",
    "# makes 5x5 test grid and chooses random action until terminal state is reached\n",
    "grid = Grid(5,random=True)\n",
    "grid.agent_pos\n",
    "#display_grid(grid)\n",
    "#print(grid.current_state)\n",
    "while not grid.terminal_state:\n",
    "    print(\"\")\n",
    "    print(generate_array(grid))\n",
    "    train_xs.append(generate_array(grid))\n",
    "    action =  tuple(grid.legal_actions())[0]#random.choice(tuple(grid.legal_actions()))\n",
    "    print(action)\n",
    "    train_ys.append(actions[action])\n",
    "    \n",
    "    grid.T(action)\n",
    "    #display_grid(grid)\n",
    "    #print(grid.current_state)"
   ]
  },
  {
   "cell_type": "code",
   "execution_count": 6,
   "metadata": {},
   "outputs": [
    {
     "name": "stdout",
     "output_type": "stream",
     "text": [
      "(5, 5, 5) (5,)\n"
     ]
    }
   ],
   "source": [
    "train_xs = np.array(train_xs, dtype=np.float32)\n",
    "train_ys = np.array(train_ys, dtype=np.int64)\n",
    "print(train_xs.shape, train_ys.shape)"
   ]
  },
  {
   "cell_type": "code",
   "execution_count": 5,
   "metadata": {},
   "outputs": [],
   "source": [
    "import torch\n",
    "import torch.nn as nn\n",
    "import torch.nn.functional as F"
   ]
  },
  {
   "cell_type": "code",
   "execution_count": 7,
   "metadata": {},
   "outputs": [],
   "source": [
    "class Net(nn.Module):\n",
    "    def __init__(self):\n",
    "        super(Net, self).__init__()\n",
    "        self.conv1 = nn.Conv2d(1, 10, 5, padding=2)\n",
    "        self.pool = nn.MaxPool2d(2, 2)\n",
    "        self.conv2 = nn.Conv2d(10, 30, 3, padding=1)\n",
    "        self.fc1 = nn.Linear(30 * 1 * 1, 5)\n",
    "\n",
    "    def forward(self, x):\n",
    "        x = self.pool(F.relu(self.conv1(x)))\n",
    "        x = self.pool(F.relu(self.conv2(x)))\n",
    "        x = x.view(-1, 30 * 1 * 1)\n",
    "        x = self.fc1(x)\n",
    "        return x\n",
    "    \n",
    "net = Net()"
   ]
  },
  {
   "cell_type": "code",
   "execution_count": 8,
   "metadata": {},
   "outputs": [],
   "source": [
    "import torch.optim as optim\n",
    "\n",
    "criterion = nn.CrossEntropyLoss()\n",
    "optimizer = optim.SGD(net.parameters(), lr=0.001, momentum=0.9)\n",
    "\n",
    "# input shape b x c x h x w to net\n",
    "# so need to unsqueeze to make channel dimension of 1, could also make each agent it's own channel instead\n",
    "train_xs = torch.from_numpy(train_xs).unsqueeze(1)\n",
    "train_ys = torch.from_numpy(train_ys)"
   ]
  },
  {
   "cell_type": "code",
   "execution_count": 9,
   "metadata": {},
   "outputs": [
    {
     "name": "stdout",
     "output_type": "stream",
     "text": [
      "Epoch:10, loss: 1.443\n",
      "Epoch:20, loss: 1.098\n",
      "Epoch:30, loss: 0.709\n",
      "Epoch:40, loss: 0.361\n",
      "Epoch:50, loss: 0.155\n",
      "Epoch:60, loss: 0.072\n",
      "Epoch:70, loss: 0.041\n",
      "Epoch:80, loss: 0.028\n",
      "Epoch:90, loss: 0.021\n",
      "Epoch:100, loss: 0.017\n",
      "Epoch:110, loss: 0.014\n",
      "Epoch:120, loss: 0.012\n",
      "Epoch:130, loss: 0.011\n",
      "Epoch:140, loss: 0.010\n",
      "Epoch:150, loss: 0.009\n",
      "Epoch:160, loss: 0.008\n",
      "Epoch:170, loss: 0.007\n",
      "Epoch:180, loss: 0.007\n",
      "Epoch:190, loss: 0.006\n",
      "Epoch:200, loss: 0.006\n",
      "Epoch:210, loss: 0.005\n",
      "Epoch:220, loss: 0.005\n",
      "Epoch:230, loss: 0.005\n",
      "Epoch:240, loss: 0.005\n",
      "Epoch:250, loss: 0.004\n",
      "Epoch:260, loss: 0.004\n",
      "Epoch:270, loss: 0.004\n",
      "Epoch:280, loss: 0.004\n",
      "Epoch:290, loss: 0.004\n",
      "Epoch:300, loss: 0.003\n"
     ]
    }
   ],
   "source": [
    "\n",
    "for epoch in range(300):  # loop over the dataset multiple times\n",
    "\n",
    "    running_loss = 0.0\n",
    "    \n",
    "    inputs, labels = train_xs, train_ys\n",
    "\n",
    "    # zero the parameter gradients\n",
    "    optimizer.zero_grad()\n",
    "\n",
    "    # forward + backward + optimize\n",
    "    outputs = net(inputs)\n",
    "    loss = criterion(outputs, labels)\n",
    "    loss.backward()\n",
    "    optimizer.step()\n",
    "\n",
    "    # print statistics\n",
    "    running_loss += loss.item()\n",
    "    if epoch%10==9:\n",
    "        print('Epoch:{}, loss: {:.3f}'.format(epoch + 1, running_loss))\n",
    "        running_loss = 0.0"
   ]
  },
  {
   "cell_type": "code",
   "execution_count": null,
   "metadata": {},
   "outputs": [],
   "source": []
  }
 ],
 "metadata": {
  "kernelspec": {
   "display_name": "Python 3",
   "language": "python",
   "name": "python3"
  },
  "language_info": {
   "codemirror_mode": {
    "name": "ipython",
    "version": 3
   },
   "file_extension": ".py",
   "mimetype": "text/x-python",
   "name": "python",
   "nbconvert_exporter": "python",
   "pygments_lexer": "ipython3",
   "version": "3.7.3"
  }
 },
 "nbformat": 4,
 "nbformat_minor": 2
}
